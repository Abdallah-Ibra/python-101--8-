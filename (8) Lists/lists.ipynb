{
 "cells": [
  {
   "attachments": {},
   "cell_type": "markdown",
   "metadata": {},
   "source": [
    "### ----------------------------\n",
    "### ---------- Lists -----------\n",
    "### ----------------------------\n",
    "#### [1] List Items Are Enclosed in Square Brackets\n",
    "#### [2] List Are Ordered, To Use Index To Access Item\n",
    "#### [3] List Are Mutable => Add, Delete, Edit\n",
    "#### [4] List Items Is Not Unique\n",
    "#### [5] List Can Have Different Data Types\n",
    "### -----------------------------\n"
   ]
  },
  {
   "cell_type": "code",
   "execution_count": 3,
   "metadata": {},
   "outputs": [
    {
     "name": "stdout",
     "output_type": "stream",
     "text": [
      "['A', 10, True, 9.5, ['Ahmed', 'Tariq', 10, False, 20.3]]\n",
      "<class 'list'>\n"
     ]
    }
   ],
   "source": [
    "x = ['A',10,True,9.5,['Ahmed','Tariq',10,False,20.3]]\n",
    "print(x)\n",
    "print(type(x))"
   ]
  },
  {
   "cell_type": "code",
   "execution_count": 22,
   "metadata": {},
   "outputs": [
    {
     "name": "stdout",
     "output_type": "stream",
     "text": [
      "Tariq\n"
     ]
    }
   ],
   "source": [
    "## Indexing && Slicing ##\n",
    "\n",
    "myList = [\n",
    "    'A', #0\n",
    "    10, #1\n",
    "    True, #2\n",
    "    9.5, #3\n",
    "    ['Ahmed',['Tariq',11,True,0.3],10,False,20.3] #4\n",
    "    ]\n",
    "\n",
    "# print(myList[4][1][0])\n",
    "x = myList[4][1][0]\n",
    "print(x)\n",
    "\n",
    "\n",
    "# print(myList[0])\n",
    "# print(myList[-1])\n",
    "# last_index = len(myList) -1\n",
    "# print(last_index)\n",
    "# print(myList[last_index])\n",
    "# x = myList[-1]\n",
    "# print(x[-1]) # x[-1] ==> myList[-1][-1]\n",
    "# print(myList[-1][0])\n",
    "\n",
    "# print(myList[-1][2])"
   ]
  },
  {
   "cell_type": "code",
   "execution_count": 33,
   "metadata": {},
   "outputs": [
    {
     "name": "stdout",
     "output_type": "stream",
     "text": [
      "Yusuf\n"
     ]
    }
   ],
   "source": [
    "## Example on Indexing ##\n",
    "newList = [5.5, False, ['Mohammed', [1, 10.11,'Yusuf'], 12], 'Ahmed', 'VisionPlus', 20, True]\n",
    "# print(len(newList))\n",
    "print(newList[2][1][2])"
   ]
  },
  {
   "cell_type": "code",
   "execution_count": 44,
   "metadata": {},
   "outputs": [
    {
     "data": {
      "text/plain": [
       "[['Mohammed', [1, 10.11, True], 12]]"
      ]
     },
     "execution_count": 44,
     "metadata": {},
     "output_type": "execute_result"
    }
   ],
   "source": [
    "## Slicing ##\n",
    "newList = [\n",
    "    5.5,\n",
    "    False,\n",
    "    [\"Mohammed\",[1,10.11,True],12],\n",
    "    \"Ahmed\",\n",
    "    \"VisionPlus\",\n",
    "    20,\n",
    "    True\n",
    "    ]\n",
    "\n",
    "# newList[start:end:steps (Optional)] : The End Value is not included\n",
    "# print(newList[0:3])\n",
    "# print(newList[3:])\n",
    "# print(newList[3:4])\n",
    "# print(newList[3:5])\n",
    "\n",
    "# print(newList[::3])\n",
    "# print(newList[::-1])\n",
    "# newList[2:5:3]"
   ]
  },
  {
   "cell_type": "code",
   "execution_count": 8,
   "metadata": {},
   "outputs": [
    {
     "name": "stdout",
     "output_type": "stream",
     "text": [
      "['Ahmed', 'Ali', 'Tariq', 'Malak', 'Mohammed', 'Alexas']\n",
      "['Ahmed', 'Ali', 'Tariq', 'Malak', 'Mohammed', 'Alexas', 'Amir', False, 243, 34.345]\n"
     ]
    }
   ],
   "source": [
    "## List Methods ##\n",
    "## append() ##\n",
    "class_A = [\"Ahmed\",\"Ali\",\"Tariq\",\"Malak\",\"Mohammed\"]\n",
    "\n",
    "# print(class_A)\n",
    "# print(class_A + [\"Alexas\"]+[False]) # Appending in old way!\n",
    "# print(class_A)\n",
    "class_A.append(\"Alexas\")\n",
    "print(class_A)\n",
    "# class_A.append(\"Shehab\",\"Ali\",\"Naser\",\"Amir\") # Error!\n",
    "# class_A.append([\"Shehab\",\"Neasd\",\"Naser\",\"Amir\"])\n",
    "class_A.append(\"Amir\")\n",
    "class_A.append(False)\n",
    "class_A.append(243)\n",
    "class_A.append(34.345)\n",
    "print(class_A)"
   ]
  },
  {
   "cell_type": "code",
   "execution_count": 12,
   "metadata": {},
   "outputs": [
    {
     "name": "stdout",
     "output_type": "stream",
     "text": [
      "['Hussien', 'Ahmed', 'Mostafa', 'Monia', 'Ahmed', 'Ali', 'Tariq', 'Malak', 'Mohammed']\n"
     ]
    }
   ],
   "source": [
    "## extend() ##\n",
    "myFriends = [\"Ahmed\",\"Ali\",\"Tariq\",\"Malak\",\"Mohammed\",] \n",
    "myNewFriends = [\"Hussien\",\"Ahmed\",\"Mostafa\",'Monia']\n",
    "# print(myFriends)\n",
    "# print(myNewFriends)\n",
    "myFriends.extend(myNewFriends)\n",
    "print(myFriends)\n",
    "# myFriends.extend(myNewFriends)\n",
    "# print(myFriends)\n",
    "# myNewFriends.extend(myFriends)\n",
    "# print(myFriends)\n",
    "# print(myNewFriends)"
   ]
  },
  {
   "cell_type": "code",
   "execution_count": 17,
   "metadata": {},
   "outputs": [
    {
     "name": "stdout",
     "output_type": "stream",
     "text": [
      "['Islam', 'Huissen', 'Nasim', 'Annis', 'Ziad']\n"
     ]
    }
   ],
   "source": [
    "## insert() ##\n",
    "leaders = [\"Islam\",\"Huissen\",\"Nasim\",\"Ziad\"]\n",
    "# print(leaders)\n",
    "# Annis -[0]-> leaders\n",
    "leaders.insert(-1,\"Annis\")\n",
    "print(leaders)"
   ]
  },
  {
   "cell_type": "code",
   "execution_count": null,
   "metadata": {},
   "outputs": [],
   "source": [
    "## remove()  && pop() ##\n",
    "stuff = [[2,True,\"Google\"],False,\"Ali\",10.9,\"Malak\",False]\n",
    "# stuff.remove(False) # Remove The First Value From List\n",
    "# stuff[0].remove(True) \n",
    "# print(f\"[*] Your Data --> {stuff}\")\n",
    "# ask = int(input(\"Enter The Index Your Want To Delete: \"))\n",
    "# print(stuff.pop())\n",
    "# print(stuff.pop(2))\n",
    "print(stuff)\n",
    "# print(f\"[-] Deleted Successfully --> {stuff.pop(-2)}\")\n",
    "# print(f\"[+] Your Data --> {stuff}\")\n",
    "# stuff"
   ]
  },
  {
   "cell_type": "code",
   "execution_count": 38,
   "metadata": {},
   "outputs": [],
   "source": [
    "## clear() && del ##\n",
    "stuff = [[2,True,\"Google\"],False,\"Ali\",10.9,\"Malak\",False]\n",
    "# print(\"Before Excute clear() Method: {}\".format(stuff))\n",
    "# stuff.clear()\n",
    "# print(f\"Afer Excute clear() Method: {stuff}\")\n",
    "\n",
    "# print(stuff)\n",
    "# del stuff\n",
    "# print(stuff)"
   ]
  }
 ],
 "metadata": {
  "kernelspec": {
   "display_name": "Python 3",
   "language": "python",
   "name": "python3"
  },
  "language_info": {
   "codemirror_mode": {
    "name": "ipython",
    "version": 3
   },
   "file_extension": ".py",
   "mimetype": "text/x-python",
   "name": "python",
   "nbconvert_exporter": "python",
   "pygments_lexer": "ipython3",
   "version": "3.10.9"
  },
  "orig_nbformat": 4,
  "vscode": {
   "interpreter": {
    "hash": "1de7a48af1223212fbab08e900bdff8f37c1428b665fd465c89f9c7893b1c688"
   }
  }
 },
 "nbformat": 4,
 "nbformat_minor": 2
}
