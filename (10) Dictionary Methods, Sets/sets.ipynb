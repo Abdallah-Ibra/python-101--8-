{
 "cells": [
  {
   "cell_type": "code",
   "execution_count": null,
   "metadata": {},
   "outputs": [],
   "source": [
    "# -----------------------------\n",
    "# *********** Set *************\n",
    "# -----------------------------\n",
    "#? [1] Set Items Are Enclosed in Curly Braces {item1, item2, item2, ...}\n",
    "#? [2] Set Items Are Not Ordered \n",
    "#? [3] Set Items Are Not Indexed \n",
    "#? [4] Set Indexing and Slicing Can't Be Done\n",
    "#? [5] Set Items is unchangeable (Immutable)\n",
    "#? [6] Set Has Only Immutable Data Types (Numbers, Strings, Tuples), List and Dict Are Not\n",
    "#? [7] Set Rejects Duplicates Items (Unique)\n",
    "#* -----------------------------"
   ]
  },
  {
   "cell_type": "code",
   "execution_count": 27,
   "metadata": {},
   "outputs": [
    {
     "name": "stdout",
     "output_type": "stream",
     "text": [
      "{100, 'Ahmed', 'Ali'}\n"
     ]
    }
   ],
   "source": [
    "\n",
    "#!# Not Ordered And Not Indexed ##\n",
    "\n",
    "mySetOne = {\"Ali\", \"Ahmed\", 100}\n",
    "print(mySetOne)\n",
    "# print(mySetOne[0])"
   ]
  },
  {
   "cell_type": "code",
   "execution_count": null,
   "metadata": {},
   "outputs": [],
   "source": [
    "\n",
    "#!# Slicing Can't Be Done ##\n",
    "\n",
    "mySetTwo = {1, 2, 3, 4, 5, 6}\n",
    "print(mySetTwo[0:3])"
   ]
  },
  {
   "cell_type": "code",
   "execution_count": null,
   "metadata": {},
   "outputs": [],
   "source": [
    "# Has Only Immutable Data Types ##\n",
    "mySetThree = {\"Abdallah\", 100, 100.5, True, [1, 2, 3]} # unhashable type: 'list'\n",
    "# mySetThree = {\"Abdallah\", 100, 100.5, True, (1, 2, 3)}\n",
    "print(mySetThree)\n"
   ]
  },
  {
   "cell_type": "code",
   "execution_count": 32,
   "metadata": {},
   "outputs": [
    {
     "name": "stdout",
     "output_type": "stream",
     "text": [
      "{1, 2, 'One', 'Abdallah'}\n"
     ]
    }
   ],
   "source": [
    "## Items Unique ##\n",
    "mySetFour = {1, 2, \"Abdallah\", \"One\", \"Abdallah\", 1}\n",
    "\n",
    "# print(len(mySetFour))\n",
    "print(mySetFour)"
   ]
  },
  {
   "cell_type": "code",
   "execution_count": null,
   "metadata": {},
   "outputs": [],
   "source": [
    "## Items is unchangeable ##\n",
    "mySetFive = {1, 2, \"Abdallah\", \"One\", \"Abdallah\", 1}\n",
    "# print(mySetFive)\n",
    "mySetFive[0] = 'Yousef'"
   ]
  },
  {
   "cell_type": "code",
   "execution_count": null,
   "metadata": {},
   "outputs": [],
   "source": [
    "setold={1,2,\"true\",True}\n",
    "setold=list(setold)\n",
    "print(setold)\n",
    "setold[1]=\"sam\"\n",
    "print(setold)\n",
    "setold=set(setold)\n",
    "print(setold)"
   ]
  },
  {
   "cell_type": "code",
   "execution_count": null,
   "metadata": {},
   "outputs": [],
   "source": [
    "# ============================================\n",
    "#*=============== Set Methods ================   \n",
    "# ============================================\n",
    "\n",
    "\n",
    "# #? clear() #?\n",
    "# ''' Removes all elements from the set '''\n",
    "mySetFive = {1, 2, \"Abdallah\", \"One\", \"Abdallah\", 1}\n",
    "# print(mySetFive)\n",
    "# mySetFive.clear()\n",
    "# del mySetFive\n",
    "# print(mySetFive)\n",
    "\n",
    "\n",
    "#? union() #?\n",
    "''' Returns the union of sets in a new set '''\n",
    "# mySetone = {1, 2, \"Abdallah\", \"One\", \"Abdallah\", 1,False}\n",
    "# mySettwo = {5,6,7.5,False}\n",
    "# print(mySetone)\n",
    "# z = mySetone.union(mySettwo)\n",
    "# print(z)\n",
    "# # print(mySetone)\n",
    "\n",
    "\n",
    "#? add() #?\n",
    "# '''Adds an element to the set'''\n",
    "# my_set = {'A',1,'B',False,2.5}\n",
    "# my_set.add('C')\n",
    "# print(my_set)\n",
    "\n",
    "#? copy() #?\n",
    "''' Returns a copy of the set '''\n",
    "# my_set = {'A',1,'B',False,2.5}\n",
    "# my_test = my_set.copy()\n",
    "# my_test.clear()\n",
    "# print(my_test)\n",
    "# print(my_set)\n",
    "\n",
    "\n",
    "#? remove() #?\n",
    "# ''' Removes an element from the set. If the element is not a member, raises a KeyError '''\n",
    "# my_set = {1,5.5,'A',True}\n",
    "# print('Printing MySet Before Remove Operation: {}'.format(my_set))\n",
    "# my_set.remove(5.5)\n",
    "# print('Printing MySet After Remove Operation: {}'.format(my_set))\n",
    "# my_set.remove('z')\n",
    "\n",
    "\n",
    "#? discard() #?\n",
    "''' Removes an element from the set if it is a member. (Do nothing if the element is not in set) '''\n",
    "# my_set = {1,5.5,'A','Mohanad'}\n",
    "# my_set.discard('16')\n",
    "# my_set.discard('Mohanad')\n",
    "# print(my_set)\n",
    "\n",
    "\n",
    "#? pop() #?\n",
    "''' Removes and returns an arbitrary set element.\n",
    "  Raises KeyError if the set is empty '''\n",
    "\n",
    "# my_set = {1,5.5,'A'}\n",
    "# print(my_set.pop())\n",
    "# print(my_set.pop())\n",
    "# print(my_set.pop())\n",
    "# print(my_set.pop())\n",
    "\n",
    "\n",
    "\n",
    "#? update() #?\n",
    "''' Updates the set with the union of itself and others '''\n",
    "# my_set = {1,5.5,'A'}\n",
    "# my_set_2 = {5,'B',1}\n",
    "# print(my_set)\n",
    "# print(my_set_2)\n",
    "# my_set_2.update(my_set)\n",
    "# print(my_set_2)\n",
    "# my_set.update(my_set_2)\n",
    "# print(my_set)\n",
    "\n",
    "\n"
   ]
  },
  {
   "cell_type": "code",
   "execution_count": null,
   "metadata": {},
   "outputs": [],
   "source": [
    "#? difference() #?\n",
    "''' Returns the difference of two or more sets as a new set '''\n",
    "my_set_1 = {'apple','banna','orange'}\n",
    "my_set_2 = {'orange','juice','ahed'}\n",
    "\n",
    "# print(f\"my_set_1 Before ==> {my_set_1}\")\n",
    "# print(f\"my_set_2 Before ==> {my_set_2}\")\n",
    "dif_set_1 = my_set_1.difference(my_set_2)\n",
    "dif_set_2 = my_set_2.difference(my_set_1)\n",
    "print(dif_set_1)\n",
    "print(dif_set_2)\n",
    "# print(f\"my_set_1 After ==> {my_set_1}\")\n",
    "# print(f\"my_set_2 After ==> {my_set_2}\")``"
   ]
  },
  {
   "cell_type": "code",
   "execution_count": null,
   "metadata": {},
   "outputs": [],
   "source": [
    "#? difference_update() #?\n",
    "''' Returns the difference of two or more sets as a new set '''\n",
    "my_set_1 = {'apple','banana','orange'}\n",
    "my_set_2 = {'orange','juice','ahed'}\n",
    "print(f\"my_set_1 Before ==> {my_set_1}\")\n",
    "print(f\"my_set_2 Before ==> {my_set_2}\")\n",
    "# my_set_1.difference_update(my_set_2)\n",
    "my_set_2.difference_update(my_set_1)\n",
    "print(\"-\"*30)\n",
    "# print(f\"my_set_1 After ==> {my_set_1}\")\n",
    "print(f\"my_set_2 After ==> {my_set_2}\")\n"
   ]
  },
  {
   "cell_type": "code",
   "execution_count": null,
   "metadata": {},
   "outputs": [],
   "source": [
    "#? intersection() #?\n",
    "''' Returns the intersection of two sets as a new set '''\n",
    "\n",
    "my_set_1 = {1,5.5,'Mohanad',6,11}\n",
    "my_set_2 = {1,5,'Adnan',6,11}\n",
    "# x = my_set_1 & my_set_2\n",
    "# print(x)\n",
    "# print(my_set_1)\n",
    "# print(my_set_2)\n",
    "\n",
    "# x = my_set_1.intersection(my_set_2)\n",
    "# y = my_set_2.intersection(my_set_1)\n",
    "# print(x)\n",
    "# print(my_set_1)\n",
    "# print(y)\n"
   ]
  },
  {
   "cell_type": "code",
   "execution_count": null,
   "metadata": {},
   "outputs": [],
   "source": [
    "#? intersection_update() #?\n",
    "''' Updates the set with the intersection of itself and another '''\n",
    "my_set_1 = {1,5.5,'Mohanad',6,11}\n",
    "my_set_2 = {1,5,'Adnan',6,11}\n",
    "# print(my_set_1)\n",
    "print(my_set_2)\n",
    "# my_set_1.intersection_update(my_set_2)\n",
    "my_set_2.intersection_update(my_set_1)\n",
    "# print(my_set_1)\n",
    "print(my_set_2)"
   ]
  },
  {
   "cell_type": "code",
   "execution_count": null,
   "metadata": {},
   "outputs": [],
   "source": [
    "#? symmetric_difference() #?\n",
    "''' Returns the symmetric difference of two sets as a new set '''\n",
    "my_set_1 = {1,5.5,'Mohanad',6,11}\n",
    "my_set_2 = {1,5,'Adnan',6,11}\n",
    "# x = my_set_1.symmetric_difference(my_set_2)\n",
    "# print(x)\n",
    "x = my_set_1 ^ my_set_2\n",
    "print(x)\n"
   ]
  },
  {
   "cell_type": "code",
   "execution_count": null,
   "metadata": {},
   "outputs": [],
   "source": [
    "#? symmetric_difference_update() #?\n",
    "''' Updates a set with the symmetric difference of itself and another '''\n",
    "\n",
    "my_set_1 = {1,5.5,'Mohanad',6,11}\n",
    "my_set_2 = {1,5,'Adnan',6,11}\n",
    "print(my_set_1)\n",
    "my_set_1.symmetric_difference_update(my_set_2)\n",
    "print(my_set_1)"
   ]
  },
  {
   "cell_type": "code",
   "execution_count": null,
   "metadata": {},
   "outputs": [],
   "source": [
    "#? issuperset() #?\n",
    "''' Returns True if this set contains another set '''\n",
    "\n",
    "a = {1, 2, 3, 4,5}\n",
    "b = {1, 2, 3}\n",
    "c = {1, 2, 3, 4, 5}\n",
    "print(a.issuperset(b))\n",
    "print(b.issuperset(a))\n",
    "print(c.issuperset(a))\n",
    "print(a.issuperset(c))"
   ]
  },
  {
   "cell_type": "code",
   "execution_count": null,
   "metadata": {},
   "outputs": [],
   "source": [
    "\n",
    "#? issubset() #?\n",
    "''' Returns True if another set contains this set '''\n",
    "d = {1, 2, 3, 4}\n",
    "e = {1, 2, 3}\n",
    "f = {1, 2, 3, 4, 5}\n",
    "\n",
    "print(d.issubset(e))  # False\n",
    "print(e.issubset(d))  # True\n",
    "\n",
    "print(d.issubset(f))  # True"
   ]
  },
  {
   "cell_type": "code",
   "execution_count": 25,
   "metadata": {},
   "outputs": [
    {
     "name": "stdout",
     "output_type": "stream",
     "text": [
      "False\n",
      "True\n"
     ]
    }
   ],
   "source": [
    "\n",
    "#? isdisjoint() #?\n",
    "''' Returns True if two sets have a null intersection '''\n",
    "\n",
    "g = {1, 2, 3, 4}\n",
    "h = {1, 2, 3}\n",
    "i = {10, 11, 12}\n",
    "\n",
    "print(g.isdisjoint(h))  # False\n",
    "print(g.isdisjoint(i))  # True"
   ]
  }
 ],
 "metadata": {
  "kernelspec": {
   "display_name": "Python 3",
   "language": "python",
   "name": "python3"
  },
  "language_info": {
   "codemirror_mode": {
    "name": "ipython",
    "version": 3
   },
   "file_extension": ".py",
   "mimetype": "text/x-python",
   "name": "python",
   "nbconvert_exporter": "python",
   "pygments_lexer": "ipython3",
   "version": "3.10.9"
  },
  "orig_nbformat": 4,
  "vscode": {
   "interpreter": {
    "hash": "1de7a48af1223212fbab08e900bdff8f37c1428b665fd465c89f9c7893b1c688"
   }
  }
 },
 "nbformat": 4,
 "nbformat_minor": 2
}
