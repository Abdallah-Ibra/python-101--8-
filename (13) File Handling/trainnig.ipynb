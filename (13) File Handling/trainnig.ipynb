{
 "cells": [
  {
   "cell_type": "markdown",
   "metadata": {},
   "source": [
    "#### Read From File"
   ]
  },
  {
   "cell_type": "code",
   "execution_count": 121,
   "metadata": {},
   "outputs": [
    {
     "name": "stdout",
     "output_type": "stream",
     "text": [
      "Hello \n",
      "Hello \n",
      "Hello \n",
      "Hello \n",
      "Hello \n",
      "Hello \n",
      "Hello \n",
      "Hello \n",
      "Hello \n",
      "Hello \n",
      "Hello \n",
      "Hello \n",
      "Hello \n",
      "Hello \n",
      "Hello \n",
      "Hello \n",
      "Hello d\n"
     ]
    }
   ],
   "source": [
    "myFile = open(r'new\\test\\test.txt','r')\n",
    "data = myFile.read()\n",
    "print(data)\n",
    "# print(type(data))\n",
    "\n",
    "# dataLine = myFile.readline()\n",
    "# print(dataLine)\n",
    "# print(type(dataLine))\n",
    "\n",
    "# dataLines = myFile.readlines()\n",
    "# print(dataLines)\n",
    "# print(type(dataLines))\n",
    "\n",
    "# print(myFile.readable())\n",
    "\n",
    "\n",
    "# if myFile.readable():\n",
    "#    print('You Have Access To Read From File!')\n",
    "# else:\n",
    "#    print('You Haven\\'t Access To Read From File!')\n",
    "   \n",
    "myFile.close()"
   ]
  },
  {
   "cell_type": "code",
   "execution_count": null,
   "metadata": {},
   "outputs": [],
   "source": [
    "myFile = open('test.txt','r')\n",
    "data = myFile.readlines()\n",
    "# print(data)\n",
    "myUsername = 'Ahmed'\n",
    "myPassword = 'khaled'\n",
    "\n",
    "for i in data:\n",
    "   # print(i.strip().split(':'))\n",
    "   credits = i.strip().split(':')\n",
    "   username = credits[0]\n",
    "   password = credits[1]\n",
    "   # print(f'[+] Username --> {username}')\n",
    "   # print(f'[+] Password --> {password}')\n",
    "   # print('-'*25)\n",
    "   if myUsername == username and myPassword == password:\n",
    "      print('[+] Login successfully!')\n",
    "      break\n",
    "   else:\n",
    "      print('[-] Invalid Credentials!')\n",
    "\n",
    "myFile.close()"
   ]
  },
  {
   "cell_type": "markdown",
   "metadata": {},
   "source": [
    "### Write on Files"
   ]
  },
  {
   "cell_type": "code",
   "execution_count": 84,
   "metadata": {},
   "outputs": [],
   "source": [
    "myFile = open('test.txt','w')\n",
    "\n",
    "# myFile.write('Hello From Python!\\n')\n",
    "# myFile.write('I love Python!\\n')\n",
    "# myFile.write('We Love Python!\\n')\n",
    "# myFile.write('Hi there!\\n')\n",
    "# myFile.write('Hi there!\\n')\n",
    "# print(myFile.writable())\n",
    "\n",
    "# myFile.writelines(['Ahmed\\n','Ali\\n','Tariq\\n'])\n",
    "\n",
    "# myFile.write('Ali\\n'*30)\n",
    "\n",
    "# for i in range(30):\n",
    "#    myFile.write('Ali\\n')\n",
    "\n",
    "\n",
    "\n",
    "myFile.close()"
   ]
  },
  {
   "cell_type": "code",
   "execution_count": 115,
   "metadata": {},
   "outputs": [],
   "source": [
    "myFile = open('test.txt','a')\n",
    "\n",
    "# myFile.write('Hello From Python!\\n')\n",
    "# myFile.write('I love Python!\\n')\n",
    "# myFile.write('We Love Python!\\n')\n",
    "# myFile.write('Hi there!\\n')\n",
    "# myFile.write('Hi there!\\n')\n",
    "# print(myFile.writable())\n",
    "\n",
    "# myFile.writelines(['Ahmed\\n','Ali\\n','Tariq\\n'])\n",
    "\n",
    "# myFile.write('Ali\\n'*30)\n",
    "\n",
    "# for i in range(30):\n",
    "#    myFile.write('Ali\\n')\n",
    "\n",
    "\n",
    "\n",
    "myFile.close()"
   ]
  },
  {
   "cell_type": "code",
   "execution_count": 30,
   "metadata": {},
   "outputs": [],
   "source": [
    "# myFile = open(r'test.txt')\n",
    "# print(myFile.read())\n",
    "# myFile.close()\n",
    "\n",
    "\n",
    "# with open('test.txt','a') as myFile:\n",
    "#    myFile.write('New Line!\\nNew Line!\\n')\n",
    "\n",
    "\n",
    "# with open('test.txt','a') as myFile:\n",
    "#    for i in range(10):\n",
    "#       # print(f'[{i+1}] New Data!')\n",
    "#       myFile.write(f'[{i+1}] New Data!\\n')\n",
    "\n",
    "\n",
    "# with open('test.txt','r') as myFile:\n",
    "#    # print(myFile.read())\n",
    "#    # print(myFile.readline(5))\n",
    "#    # print(myFile.readlines())\n",
    "#    new = myFile.readlines()\n",
    "#    # print(new)\n",
    "#    for i in new:\n",
    "#       # print(i.strip())\n",
    "#       myData = i.strip()\n",
    "#       if myData.endswith('!'):\n",
    "#          print(myData[:-1])\n",
    "#       else:\n",
    "#          print(myData)\n",
    "         \n",
    "\n"
   ]
  },
  {
   "cell_type": "code",
   "execution_count": 40,
   "metadata": {},
   "outputs": [],
   "source": [
    "with open('names.txt', 'r') as readNames:\n",
    "   myNames = readNames.readlines()\n",
    "\n",
    "# print(myNames)\n",
    "with open('names.txt', 'w') as writeNames:\n",
    "   for num,value in enumerate(myNames):\n",
    "      # print(i.strip())\n",
    "      if value.strip().startswith('Mr.'):\n",
    "         newName = value.strip().replace('Mr.','')\n",
    "         # print(f\"[{str(num+1).zfill(3)}] {newName}\")\n",
    "         writeNames.write(f'[{str(num+1).zfill(3)}] {newName}\\n')\n",
    "      elif value.strip().startswith('Miss.'):\n",
    "         newName = value.strip().replace('Miss.','')\n",
    "         # print(f\"[{str(num+1).zfill(3)}] {newName}\")\n",
    "         writeNames.write(f'[{str(num+1).zfill(3)}] {newName}\\n')"
   ]
  },
  {
   "cell_type": "code",
   "execution_count": null,
   "metadata": {},
   "outputs": [],
   "source": []
  }
 ],
 "metadata": {
  "kernelspec": {
   "display_name": "Python 3.9.12 64-bit",
   "language": "python",
   "name": "python3"
  },
  "language_info": {
   "codemirror_mode": {
    "name": "ipython",
    "version": 3
   },
   "file_extension": ".py",
   "mimetype": "text/x-python",
   "name": "python",
   "nbconvert_exporter": "python",
   "pygments_lexer": "ipython3",
   "version": "3.9.13"
  },
  "orig_nbformat": 4,
  "vscode": {
   "interpreter": {
    "hash": "f356935e4fe4ba36f2e0aaedb49d9fb3ca947bc7777e96982013e6cd328d5480"
   }
  }
 },
 "nbformat": 4,
 "nbformat_minor": 2
}
