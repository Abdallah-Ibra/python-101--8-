{
 "cells": [
  {
   "cell_type": "code",
   "execution_count": null,
   "metadata": {},
   "outputs": [],
   "source": [
    "\n",
    "# ? Open File \n",
    "myfile = open('names.txt','r')\n",
    "\n",
    "# ! Operations\n",
    "# print(myfile.read())\n",
    "# ** read() --> str()\n",
    "# ** readline() --> str() [Fist Line in File]\n",
    "# ** readlines() --> list()\n",
    "# ** readable() --> bool()\n",
    "\n",
    "\n",
    "# data1 = myfile.read()\n",
    "# print(data1[:5])\n",
    "# data2 = myfile.readline()\n",
    "# print(data2.strip())\n",
    "\n",
    "# data3 = myfile.readlines()\n",
    "# print(type(data3))\n",
    "\n",
    "# for x in data3:\n",
    "#   print(f'Item1: {x.strip()}')\n",
    "\n",
    "# isReadable = myfile.readable()\n",
    "# print(isReadable)\n",
    "\n",
    "# ? Close File \n",
    "myfile.close()"
   ]
  },
  {
   "cell_type": "code",
   "execution_count": null,
   "metadata": {},
   "outputs": [],
   "source": [
    "\n",
    "myFile = open('names.txt','w')\n",
    "\n",
    "# myFile.write('This my Test Writing on File!\\nThis my Test Writing on File!\\nThis my Test Writing on File!\\nThis my Test Writing on File!\\nThis my Test Writing on File!\\nThis my Test Writing on File!\\n')\n",
    "# newData = ['jhiadsopkaijdiajsud\\n','poiasudhajds\\n','apoisduyadhiosajp\\n']\n",
    "# myFile.writelines(newData)\n",
    "# for data in newData:\n",
    "#   myFile.write(data)\n",
    "# print(myFile.writable())\n",
    "\n",
    "\n",
    "myFile.close()\n"
   ]
  },
  {
   "cell_type": "code",
   "execution_count": 31,
   "metadata": {},
   "outputs": [],
   "source": [
    "\n",
    "myFile = open('names.txt','a')\n",
    "\n",
    "myFile.write('Hello From Python!\\nI Love Python')\n",
    "\n",
    "myFile.close()\n"
   ]
  },
  {
   "cell_type": "code",
   "execution_count": 32,
   "metadata": {},
   "outputs": [],
   "source": [
    "# with open('names.txt','r') as myFile:\n",
    "#   myFile.read()\n",
    "#   myFile.readline()\n",
    "#   myFile.readlines()\n",
    "#   myFile.readable()\n",
    "\n",
    "\n",
    "# with open('names.txt','a') as myFile:\n",
    "#   myFile.write('aiudsyahbjdknalosdihja\\nadisusayghbjknd')\n",
    "\n",
    "\n"
   ]
  },
  {
   "cell_type": "code",
   "execution_count": 1,
   "metadata": {},
   "outputs": [],
   "source": [
    "myfile = open('names.txt','a')\n",
    "\n",
    "for i in range(100):\n",
    "  # myfile.write(str(i))\n",
    "  myfile.write(f'{i}\\n')\n",
    "myfile.close()\n",
    "\n",
    "\n",
    "with open('names.txt','a') as test:\n",
    "  for i in range(100):\n",
    "    test.write(f'{i}\\n')\n"
   ]
  },
  {
   "cell_type": "code",
   "execution_count": 6,
   "metadata": {},
   "outputs": [],
   "source": [
    "\n",
    "#** Relative Path --> 'names.txt'\n",
    "#** Full Path  --> E:\\python\\Python 101 (7)\\(13) File Hanling\\names.txt\n",
    "\n",
    "# myfile = open('./new/new.txt','r')\n",
    "# print(myfile.read())\n",
    "# myfile.close()\n",
    "\n",
    "\n",
    "\n",
    "# myfile = open('../new.txt','a')\n",
    "# myfile.write(\"Hello From Test\\nHello From Test\\nHello From Test\\nHello From Test\\n\")\n",
    "# myfile.close()\n"
   ]
  }
 ],
 "metadata": {
  "kernelspec": {
   "display_name": "Python 3",
   "language": "python",
   "name": "python3"
  },
  "language_info": {
   "codemirror_mode": {
    "name": "ipython",
    "version": 3
   },
   "file_extension": ".py",
   "mimetype": "text/x-python",
   "name": "python",
   "nbconvert_exporter": "python",
   "pygments_lexer": "ipython3",
   "version": "3.10.9 (tags/v3.10.9:1dd9be6, Dec  6 2022, 20:01:21) [MSC v.1934 64 bit (AMD64)]"
  },
  "orig_nbformat": 4,
  "vscode": {
   "interpreter": {
    "hash": "1de7a48af1223212fbab08e900bdff8f37c1428b665fd465c89f9c7893b1c688"
   }
  }
 },
 "nbformat": 4,
 "nbformat_minor": 2
}
