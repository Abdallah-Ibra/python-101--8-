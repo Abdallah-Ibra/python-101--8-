{
 "cells": [
  {
   "cell_type": "code",
   "execution_count": null,
   "metadata": {},
   "outputs": [],
   "source": [
    "class Car:\n",
    "    #! Class Attributes\n",
    "    name = ''\n",
    "    brand = ''\n",
    "    color = ''\n",
    "\n",
    "#? Create Objects From Car Class\n",
    "kia = Car()\n",
    "kia.name = 'KIA'\n",
    "kia.color = 'RED'\n",
    "kia.brand = 'S243'\n",
    "print(f'Car Name --> {kia.name}')\n",
    "print(f'Car Color --> {kia.color}')\n",
    "print(f'Car Brand --> {kia.brand}')\n",
    "print('='*50)\n",
    "toyta = Car()\n",
    "toyta.name = 'Toyta'\n",
    "toyta.color = 'White'\n",
    "toyta.brand = 'T343'\n",
    "print(f'Car Name --> {toyta.name}')\n",
    "print(f'Car Color --> {toyta.color}')\n",
    "print(f'Car Brand --> {toyta.brand}')"
   ]
  },
  {
   "cell_type": "code",
   "execution_count": 42,
   "metadata": {},
   "outputs": [
    {
     "name": "stdout",
     "output_type": "stream",
     "text": [
      "Laptop Name: Lenovo\n",
      "Laptop Brand: asioduh234\n",
      "Laptop Color: Black\n"
     ]
    }
   ],
   "source": [
    "class Laptops:\n",
    "    #! Class Attributes/Properties \n",
    "    name = ''\n",
    "    brand = ''\n",
    "    color = ''\n",
    "\n",
    "    #! Class Behaviors/Methods\n",
    "    def __str__(self):\n",
    "        return f'Laptop Name: {self.name}\\nLaptop Brand: {self.brand}\\nLaptop Color: {self.color}'\n",
    "    \n",
    "    # def getDetails(self):\n",
    "    #     print(f'Laptop Name: {self.name}')\n",
    "    #     print(f'Laptop Brand: {self.brand}')\n",
    "    #     print(f'Laptop Color: {self.color}')\n",
    "\n",
    "lenovo = Laptops()\n",
    "lenovo.name = 'Lenovo'\n",
    "lenovo.brand = 'asioduh234'\n",
    "lenovo.color = 'Black'\n",
    "# print(lenovo.name)\n",
    "# print(lenovo.brand)\n",
    "# print(lenovo.color)\n",
    "print(lenovo)\n",
    "# lenovo.getDetails()\n"
   ]
  },
  {
   "cell_type": "code",
   "execution_count": null,
   "metadata": {},
   "outputs": [],
   "source": [
    "\n",
    "name = 'Mostafa'\n",
    "age = 20\n",
    "# hairColor = 'Black'\n",
    "# print(f'[+] Name: {name}')\n",
    "# print(f'[+] Age: {age}')\n",
    "# print(f'[+] Hair Color: {hairColor}')\n",
    "\n",
    "def getDetails(name,age,hairColor):\n",
    "  print(f'[+] Name: {name}')\n",
    "  print(f'[+] Age: {age}')\n",
    "  print(f'[+] Hair Color: {hairColor}')\n",
    "  print('-'*30)\n",
    "\n",
    "\n",
    "getDetails('Mostafa',20,'Black')\n",
    "getDetails('Hussein',20,'Black')\n",
    "getDetails('Ahmed',25,'Black')\n",
    "\n",
    "\n"
   ]
  },
  {
   "cell_type": "code",
   "execution_count": 28,
   "metadata": {},
   "outputs": [
    {
     "name": "stdout",
     "output_type": "stream",
     "text": [
      "[+] Name: Honda\n",
      "[+] Brand: 2009\n",
      "----------------------------\n",
      "[+] Name: BMW\n",
      "[+] Brand: M4\n"
     ]
    }
   ],
   "source": [
    "# Class:\n",
    "# - Attributes\n",
    "# - Behaviours\n",
    "\n",
    "class Car:\n",
    "  #! Class Attributes\n",
    "  # name = ''\n",
    "  # brand = ''\n",
    "  \n",
    "  #? Class Insializer[Constructor]\n",
    "  def __init__(self,name,brand):\n",
    "    self.name = name\n",
    "    self.brand = brand\n",
    "  \n",
    "  \n",
    "  #! Class Behaviours\n",
    "  def __str__(self):\n",
    "    return f'[+] Name: {self.name}\\n[+] Brand: {self.brand}'\n",
    "\n",
    "\n",
    "\n",
    "# kia = Car()\n",
    "# kia.name = 'KIA'\n",
    "# kia.brand = 'K5'\n",
    "# print(f'Car Name --> {kia.name}')\n",
    "# print(f'Car Brand --> {kia.brand}')\n",
    "# print('-'*30)\n",
    "# mercedes = Car()\n",
    "# mercedes.name = 'Mercedes'\n",
    "# mercedes.brand = 'G Class'\n",
    "# print(f'Car Name --> {mercedes.name}')\n",
    "# print(f'Car Brand --> {mercedes.brand}')\n",
    "# print('-'*30)\n",
    "\n",
    "# toyta = Car('Toyta','Brand')\n",
    "# print(toyta.name)\n",
    "# print(toyta.brand)\n",
    "\n",
    "honda = Car('Honda','2009')\n",
    "print(honda)\n",
    "print('----------------------------')\n",
    "bmw = Car('BMW','M4')\n",
    "print(bmw)"
   ]
  },
  {
   "cell_type": "code",
   "execution_count": null,
   "metadata": {},
   "outputs": [],
   "source": [
    "# Class\n",
    "# Object \n",
    "\n",
    "class Human:\n",
    "   # Attributes\n",
    "   name = \"Abdallah\"\n",
    "   hairColor = 'black'\n",
    "   \n",
    "   \n",
    "   # Behaviours\n",
    "\n",
    "\n",
    "# Create Objects\n",
    "obj1 = Human()\n",
    "print(obj1.name)\n",
    "print(obj1.hairColor)\n",
    "\n",
    "print('-'*30)\n",
    "\n",
    "obj2 = Human()\n",
    "obj2.name= 'Ahmed'\n",
    "obj2.hairColor= 'gray'\n",
    "print(obj2.name)\n",
    "print(obj2.hairColor)\n",
    "\n"
   ]
  },
  {
   "cell_type": "code",
   "execution_count": null,
   "metadata": {},
   "outputs": [],
   "source": [
    "class Animals:\n",
    "   # Constuctor (Initializer)\n",
    "   def __init__(self,name,color):\n",
    "      print('Welcome!')\n",
    "      print(f'name --> {name}')\n",
    "      print(f'Color --> {color}')\n",
    "   \n",
    "   # Attributes\n",
    "   # name = ''\n",
    "   # color = ''\n",
    "   \n",
    "   # Behaviors\n",
    "   def sound():\n",
    "      pass\n",
    "\n",
    "\n",
    "lion = Animals('Lion','Orange')\n",
    "# lion.name = 'Lion'\n",
    "# lion.color = 'orange'\n",
    "# print(lion.name)\n",
    "# print(lion.color)\n",
    "\n",
    "print('='*30)\n",
    "snake = Animals('Snake','Black')"
   ]
  }
 ],
 "metadata": {
  "kernelspec": {
   "display_name": "Python 3",
   "language": "python",
   "name": "python3"
  },
  "language_info": {
   "codemirror_mode": {
    "name": "ipython",
    "version": 3
   },
   "file_extension": ".py",
   "mimetype": "text/x-python",
   "name": "python",
   "nbconvert_exporter": "python",
   "pygments_lexer": "ipython3",
   "version": "3.10.9"
  },
  "orig_nbformat": 4,
  "vscode": {
   "interpreter": {
    "hash": "1de7a48af1223212fbab08e900bdff8f37c1428b665fd465c89f9c7893b1c688"
   }
  }
 },
 "nbformat": 4,
 "nbformat_minor": 2
}
