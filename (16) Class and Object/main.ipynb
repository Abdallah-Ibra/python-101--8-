{
 "cells": [
  {
   "cell_type": "code",
   "execution_count": null,
   "metadata": {},
   "outputs": [],
   "source": [
    "class Car:\n",
    "    #! Class Attributes\n",
    "    name = ''\n",
    "    brand = ''\n",
    "    color = ''\n",
    "\n",
    "#? Create Objects From Car Class\n",
    "kia = Car()\n",
    "kia.name = 'KIA'\n",
    "kia.color = 'RED'\n",
    "kia.brand = 'S243'\n",
    "print(f'Car Name --> {kia.name}')\n",
    "print(f'Car Color --> {kia.color}')\n",
    "print(f'Car Brand --> {kia.brand}')\n",
    "print('='*50)\n",
    "toyta = Car()\n",
    "toyta.name = 'Toyta'\n",
    "toyta.color = 'White'\n",
    "toyta.brand = 'T343'\n",
    "print(f'Car Name --> {toyta.name}')\n",
    "print(f'Car Color --> {toyta.color}')\n",
    "print(f'Car Brand --> {toyta.brand}')"
   ]
  },
  {
   "cell_type": "code",
   "execution_count": 31,
   "metadata": {},
   "outputs": [
    {
     "name": "stdout",
     "output_type": "stream",
     "text": [
      "Hello From Initializer\n"
     ]
    }
   ],
   "source": [
    "class Laptops:\n",
    "    #! Class Attributes/Properties \n",
    "    \n",
    "    #? Constructor/Initializer\n",
    "    def __init__(self,name,brand,color):\n",
    "        self.name = name\n",
    "        self.brand = brand\n",
    "        self.color = color\n",
    "        self.__salary = 1800\n",
    "    \n",
    "    #! Class Behaviors/Methods\n",
    "    # ? Getter And Setter Methods\n",
    "    def getSalary(self):\n",
    "        return self.__salary\n",
    "    def setSalary(self,newSalary):\n",
    "        try:\n",
    "            if int(newSalary) < 3000 and int(newSalary) > 1300:\n",
    "                print('[+] Salary Value Changed!')\n",
    "                self.__salary = newSalary\n",
    "            else:\n",
    "                print('[-] Please Enter A Valid Value!')\n",
    "        except:\n",
    "            print('[-] Please Enter A Valid Value!')\n",
    "    \n",
    "    def __str__(self):\n",
    "        return f'Laptop Name: {self.name}\\nLaptop Brand: {self.brand}\\nLaptop Color: {self.color}\\nLaptop Salary: {self.__salary}$'\n",
    "    \n",
    "lenovo = Laptops('Lenovo','LENV19','Black')\n",
    "# lenovo.name = 'Lenovo'\n",
    "# lenovo.brand = 'asioduh234'\n",
    "# lenovo.color = 'Black'\n",
    "# lenovo.__salary = 2000\n",
    "# print(lenovo.__salary)\n",
    "\n",
    "# print(lenovo.getSalary())\n",
    "# lenovo.setSalary(2000)\n",
    "# print(lenovo.getSalary())\n",
    "# print(lenovo._Laptops__salary)\n",
    "# lenovo._Laptops__salary = 2000\n",
    "# print(lenovo._Laptops__salary)\n",
    "\n"
   ]
  },
  {
   "cell_type": "code",
   "execution_count": 28,
   "metadata": {},
   "outputs": [
    {
     "name": "stdout",
     "output_type": "stream",
     "text": [
      "[+] Name: Honda\n",
      "[+] Brand: 2009\n",
      "----------------------------\n",
      "[+] Name: BMW\n",
      "[+] Brand: M4\n"
     ]
    }
   ],
   "source": [
    "# Class:\n",
    "# - Attributes\n",
    "# - Behaviours\n",
    "\n",
    "class Car:\n",
    "  #! Class Attributes\n",
    "  # name = ''\n",
    "  # brand = ''\n",
    "  \n",
    "  #? Class Insializer[Constructor]\n",
    "  def __init__(self,name,brand):\n",
    "    self.name = name\n",
    "    self.brand = brand\n",
    "  \n",
    "  \n",
    "  #! Class Behaviours\n",
    "  def __str__(self):\n",
    "    return f'[+] Name: {self.name}\\n[+] Brand: {self.brand}'\n",
    "\n",
    "\n",
    "\n",
    "# kia = Car()\n",
    "# kia.name = 'KIA'\n",
    "# kia.brand = 'K5'\n",
    "# print(f'Car Name --> {kia.name}')\n",
    "# print(f'Car Brand --> {kia.brand}')\n",
    "# print('-'*30)\n",
    "# mercedes = Car()\n",
    "# mercedes.name = 'Mercedes'\n",
    "# mercedes.brand = 'G Class'\n",
    "# print(f'Car Name --> {mercedes.name}')\n",
    "# print(f'Car Brand --> {mercedes.brand}')\n",
    "# print('-'*30)\n",
    "\n",
    "# toyta = Car('Toyta','Brand')\n",
    "# print(toyta.name)\n",
    "# print(toyta.brand)\n",
    "\n",
    "honda = Car('Honda','2009')\n",
    "print(honda)\n",
    "print('----------------------------')\n",
    "bmw = Car('BMW','M4')\n",
    "print(bmw)"
   ]
  },
  {
   "cell_type": "code",
   "execution_count": null,
   "metadata": {},
   "outputs": [],
   "source": [
    "# Class\n",
    "# Object \n",
    "\n",
    "class Human:\n",
    "   # Attributes\n",
    "   name = \"Abdallah\"\n",
    "   hairColor = 'black'\n",
    "   \n",
    "   \n",
    "   # Behaviours\n",
    "\n",
    "\n",
    "# Create Objects\n",
    "obj1 = Human()\n",
    "print(obj1.name)\n",
    "print(obj1.hairColor)\n",
    "\n",
    "print('-'*30)\n",
    "\n",
    "obj2 = Human()\n",
    "obj2.name= 'Ahmed'\n",
    "obj2.hairColor= 'gray'\n",
    "print(obj2.name)\n",
    "print(obj2.hairColor)\n",
    "\n"
   ]
  },
  {
   "cell_type": "code",
   "execution_count": null,
   "metadata": {},
   "outputs": [],
   "source": [
    "class Animals:\n",
    "   # Constuctor (Initializer)\n",
    "   def __init__(self,name,color):\n",
    "      print('Welcome!')\n",
    "      print(f'name --> {name}')\n",
    "      print(f'Color --> {color}')\n",
    "   \n",
    "   # Attributes\n",
    "   # name = ''\n",
    "   # color = ''\n",
    "   \n",
    "   # Behaviors\n",
    "   def sound():\n",
    "      pass\n",
    "\n",
    "\n",
    "lion = Animals('Lion','Orange')\n",
    "# lion.name = 'Lion'\n",
    "# lion.color = 'orange'\n",
    "# print(lion.name)\n",
    "# print(lion.color)\n",
    "\n",
    "print('='*30)\n",
    "snake = Animals('Snake','Black')"
   ]
  }
 ],
 "metadata": {
  "kernelspec": {
   "display_name": "Python 3",
   "language": "python",
   "name": "python3"
  },
  "language_info": {
   "codemirror_mode": {
    "name": "ipython",
    "version": 3
   },
   "file_extension": ".py",
   "mimetype": "text/x-python",
   "name": "python",
   "nbconvert_exporter": "python",
   "pygments_lexer": "ipython3",
   "version": "3.10.9"
  },
  "orig_nbformat": 4,
  "vscode": {
   "interpreter": {
    "hash": "1de7a48af1223212fbab08e900bdff8f37c1428b665fd465c89f9c7893b1c688"
   }
  }
 },
 "nbformat": 4,
 "nbformat_minor": 2
}
