{
 "cells": [
  {
   "cell_type": "code",
   "execution_count": null,
   "metadata": {},
   "outputs": [],
   "source": [
    "import qrcode\n",
    "data = 'https://www.instagram.com/'\n",
    "img = qrcode.make(data)\n",
    "img.save(\"test.png\")"
   ]
  },
  {
   "cell_type": "code",
   "execution_count": null,
   "metadata": {},
   "outputs": [],
   "source": [
    "qr = qrcode.QRCode(\n",
    "   version=1,\n",
    "   error_correction=qrcode.constants.ERROR_CORRECT_L,\n",
    "   box_size=10,\n",
    "   border=2,\n",
    ")\n",
    "qr.add_data('https://www.instagram.com/')\n",
    "qr.make(fit=True)\n",
    "\n",
    "img = qr.make_image(fill_color=\"green\", back_color=\"black\")\n",
    "img.save('test1.png')"
   ]
  }
 ],
 "metadata": {
  "kernelspec": {
   "display_name": "Python 3.9.13 64-bit",
   "language": "python",
   "name": "python3"
  },
  "language_info": {
   "name": "python",
   "version": "3.9.13"
  },
  "orig_nbformat": 4,
  "vscode": {
   "interpreter": {
    "hash": "f356935e4fe4ba36f2e0aaedb49d9fb3ca947bc7777e96982013e6cd328d5480"
   }
  }
 },
 "nbformat": 4,
 "nbformat_minor": 2
}
