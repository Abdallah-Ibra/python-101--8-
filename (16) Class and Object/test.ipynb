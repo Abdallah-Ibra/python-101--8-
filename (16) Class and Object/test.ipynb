{
 "cells": [
  {
   "cell_type": "code",
   "execution_count": 34,
   "metadata": {},
   "outputs": [
    {
     "name": "stdout",
     "output_type": "stream",
     "text": [
      "Hello From Parent Class\n",
      "I Have Hundai CAR!\n"
     ]
    }
   ],
   "source": [
    "\n",
    "#? Parent Class\n",
    "class Person:\n",
    "    def __init__(self,name,birthYear):\n",
    "        #? Instance Attributes\n",
    "        self.name = name\n",
    "        self.birthYear = birthYear\n",
    "        self.__profit = 3000\n",
    "\n",
    "    # def getProfit(self):\n",
    "    #     return self.__profit\n",
    "    # def setProfit(self,value):\n",
    "    #     self.__profit = value\n",
    "    \n",
    "    @property\n",
    "    def profit(self):\n",
    "        return self.__profit\n",
    "    \n",
    "    @profit.setter\n",
    "    def profit(self,new):\n",
    "        self.__profit = new\n",
    "    \n",
    "    def haveCar(self):\n",
    "        print('I Have Red KIA CAR!')\n",
    "    def hi(self):\n",
    "        print(\"Hello From Parent Class\")\n",
    "    \n",
    "    def __str__(self):\n",
    "        return f'{self.name}|{self.birthYear}'\n",
    "\n",
    "#? Derived Class\n",
    "class Son(Person):\n",
    "    #! Method Overriden\n",
    "    def haveCar(self):\n",
    "        # Person.haveCar(self)\n",
    "        super().haveCar()\n",
    "        print('I Have Hundai CAR!')\n",
    "\n",
    "\n",
    "\n",
    "\n",
    "# ahmed = Person('Ahmed',2003)\n",
    "# ahmed.haveCar()\n",
    "#? ------ OLD WAY ------\n",
    "# print(ahmed.getProfit())\n",
    "# ahmed.setProfit(2000)\n",
    "# print(ahmed.getProfit())\n",
    "#! ------ NEW WAY --------\n",
    "# print(ahmed.profit)\n",
    "# ahmed.profit = 2000\n",
    "# print(ahmed.profit)\n",
    "\n",
    "malik = Son('Malik',2029)\n",
    "# print(malik)\n",
    "malik.haveCar()\n",
    "# malik._Person__profit\n",
    "# malik.profit = 5000\n",
    "# malik.profit"
   ]
  }
 ],
 "metadata": {
  "kernelspec": {
   "display_name": "Python 3.9.13 64-bit",
   "language": "python",
   "name": "python3"
  },
  "language_info": {
   "codemirror_mode": {
    "name": "ipython",
    "version": 3
   },
   "file_extension": ".py",
   "mimetype": "text/x-python",
   "name": "python",
   "nbconvert_exporter": "python",
   "pygments_lexer": "ipython3",
   "version": "3.10.9"
  },
  "orig_nbformat": 4,
  "vscode": {
   "interpreter": {
    "hash": "f356935e4fe4ba36f2e0aaedb49d9fb3ca947bc7777e96982013e6cd328d5480"
   }
  }
 },
 "nbformat": 4,
 "nbformat_minor": 2
}
