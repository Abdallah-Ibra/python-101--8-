{
 "cells": [
  {
   "cell_type": "code",
   "execution_count": 8,
   "metadata": {},
   "outputs": [
    {
     "name": "stdout",
     "output_type": "stream",
     "text": [
      "Sorry, Cola Not Found!\n",
      "Finish condition [Leaving Home!]\n"
     ]
    }
   ],
   "source": [
    "product = 'Cola'\n",
    "station1 = 'not found'\n",
    "station2 = 'not found'\n",
    "station3 = 'not found'\n",
    "\n",
    "if (station1 == 'found'):\n",
    "    print('Got Cola From Station1')\n",
    "\n",
    "elif (station2 == 'found'):\n",
    "    print('Got Cola From Station2')\n",
    "\n",
    "elif (station3 == 'found'):\n",
    "    print('Got Cola From Station3')\n",
    "\n",
    "else:\n",
    "    print(\"Sorry, Cola Not Found!\")\n",
    "\n",
    "\n",
    "print(\"Finish condition [Leaving Home!]\")\n"
   ]
  },
  {
   "cell_type": "code",
   "execution_count": null,
   "metadata": {},
   "outputs": [],
   "source": [
    "# if (condition):\n",
    "# Statements\n",
    "\n",
    "\n",
    "name = 'Hussien'\n",
    "position = 'pyTHON   '\n",
    "\n",
    "if position.lower().strip() == 'python':\n",
    "    print('Congrats, You Are Accepted!')\n",
    "else:\n",
    "    print('Sorry, You Are Rejected!')\n",
    "\n",
    "\n",
    "print('App Finished!')\n"
   ]
  },
  {
   "cell_type": "code",
   "execution_count": 22,
   "metadata": {},
   "outputs": [
    {
     "name": "stdout",
     "output_type": "stream",
     "text": [
      "[+] Congrats abdallah, You are Accepted!\n"
     ]
    }
   ],
   "source": [
    "# Task1\n",
    "name = 'abdallah'\n",
    "age = 40\n",
    "# age>=20 and age<=35\n",
    "#       True and  False ==> False\n",
    "if age >= 20 and age <= 35:\n",
    "    print(f'[+] Congrats {name}, You are Accepted!')\n",
    "else:\n",
    "    print(f'[-] Sorry {name}, You are Rejected!')\n"
   ]
  },
  {
   "cell_type": "code",
   "execution_count": null,
   "metadata": {},
   "outputs": [],
   "source": [
    "drink = 'Cola'\n",
    "\n",
    "station1 = 'not found'\n",
    "station2 = 'found'\n",
    "station3 = 'found'\n",
    "\n",
    "if station1 == 'found':\n",
    "    print('I Got it From Station1!')\n",
    "\n",
    "print('I Got Back Home!')\n",
    "print('-'*30)\n",
    "\n",
    "if station2 == 'found':\n",
    "    print('I Got it From Station2!')\n",
    "\n",
    "print('I Got Back Home!')\n",
    "print('-'*30)\n",
    "\n",
    "if station3 == 'found':\n",
    "    print('I Got it From Station3!')\n",
    "\n",
    "print('I Got Back Home!')\n",
    "print('-'*30)\n"
   ]
  },
  {
   "cell_type": "code",
   "execution_count": 2,
   "metadata": {},
   "outputs": [
    {
     "name": "stdout",
     "output_type": "stream",
     "text": [
      "Login Successfully!\n",
      "Redirecting You in Few Moments..\n"
     ]
    }
   ],
   "source": [
    "email = input('Enter Your Email: ').strip().lower()\n",
    "password = input('Enter Your Password: ')\n",
    "\n",
    "trueEmail = 'pythondeveloper@gmail.com'\n",
    "truePassword = 'ILovePython0_^'\n",
    "\n",
    "if (email == trueEmail) and (password == truePassword):\n",
    "    print('Login Successfully!')\n",
    "    print('Redirecting You in Few Moments..')\n",
    "elif (email == trueEmail):\n",
    "    print('Passowrd Error!')\n",
    "elif (password == truePassword):\n",
    "    print('Email Error!')\n",
    "else:\n",
    "    print('Invalid Email Or Password!')\n",
    "\n",
    "print('--------------------------------')\n"
   ]
  },
  {
   "cell_type": "code",
   "execution_count": 27,
   "metadata": {},
   "outputs": [
    {
     "name": "stdout",
     "output_type": "stream",
     "text": [
      "Google Found --> ww.google.com\n"
     ]
    }
   ],
   "source": [
    "website = input(\"[?] Enter Your Site: \").strip().lower()\n",
    "# https\n",
    "# .ps\n",
    "# if website.startswith('https') and website.endswith('.ps'):\n",
    "#     print('[+] Valid Site: {}'.format(website))\n",
    "# else:\n",
    "#     print('[-] Invalid Site: {}'.format(website))\n",
    "\n",
    "# if 'google' in website:\n",
    "#     print('Google Found --> {}'.format(website))\n",
    "# else:\n",
    "#     print('Google Not Found --> {}'.format(website))\n"
   ]
  },
  {
   "cell_type": "code",
   "execution_count": null,
   "metadata": {},
   "outputs": [],
   "source": []
  }
 ],
 "metadata": {
  "kernelspec": {
   "display_name": "Python 3",
   "language": "python",
   "name": "python3"
  },
  "language_info": {
   "codemirror_mode": {
    "name": "ipython",
    "version": 3
   },
   "file_extension": ".py",
   "mimetype": "text/x-python",
   "name": "python",
   "nbconvert_exporter": "python",
   "pygments_lexer": "ipython3",
   "version": "3.10.9"
  },
  "orig_nbformat": 4,
  "vscode": {
   "interpreter": {
    "hash": "1de7a48af1223212fbab08e900bdff8f37c1428b665fd465c89f9c7893b1c688"
   }
  }
 },
 "nbformat": 4,
 "nbformat_minor": 2
}
