{
 "cells": [
  {
   "cell_type": "code",
   "execution_count": 17,
   "metadata": {},
   "outputs": [
    {
     "name": "stdout",
     "output_type": "stream",
     "text": [
      "Hello Friend | Another Text\n"
     ]
    }
   ],
   "source": [
    "\n",
    "greet = 'Hello Friend'\n",
    "another = 'Another Text'\n",
    "# print(greet,another)\n",
    "# print(greet+' '+another)\n",
    "# #! String Formatting\n",
    "# print('%s %s'%(greet,another))\n",
    "# print('{} {}'.format(greet,another))\n",
    "# print(f'{greet} {another}')\n",
    "# ---------------------------\n",
    "print(greet,end=' | ')\n",
    "print(another)\n",
    "\n",
    "\n",
    "\n"
   ]
  },
  {
   "cell_type": "code",
   "execution_count": null,
   "metadata": {},
   "outputs": [],
   "source": [
    "# ----------------------------\n",
    "#! Escape Sequences Characters\n",
    "#? \\b => Back Space\n",
    "#? \\n (newline) => Escape New Line + \\\n",
    "#? \\\\ => Escape Back Slash\n",
    "#? \\' => Escape Single Quotes\n",
    "#? \\\" => Escape Double Quotes\n",
    "#? \\r => Carriage Return\n",
    "#? \\t => Horizontal Tab\n",
    "#? \\xhh => Character Hex Value\n",
    "# ----------------------------\n",
    "\n"
   ]
  },
  {
   "cell_type": "code",
   "execution_count": 22,
   "metadata": {},
   "outputs": [
    {
     "name": "stdout",
     "output_type": "stream",
     "text": [
      "Hell World\n"
     ]
    }
   ],
   "source": [
    "# Back Space\n",
    "print(\"Hello\\b World\")  # Will Remove o\n"
   ]
  },
  {
   "cell_type": "code",
   "execution_count": null,
   "metadata": {},
   "outputs": [],
   "source": [
    "# Line Feed\n",
    "# print(\"\"\"Hello World\n",
    "# Second Line\n",
    "# Third Line ioausdhadn oaisjuda doasidja oaijdsa\"\"\")\n",
    "x = \"Hello World\\nSecond Line\\nThird Line\"\n",
    "print(x)\n"
   ]
  },
  {
   "cell_type": "code",
   "execution_count": null,
   "metadata": {},
   "outputs": [],
   "source": [
    "\n",
    "# Horizontal Tab\n",
    "x = \"Hello\\tPython\"\n",
    "print(x)\n",
    "print(x.expandtabs(10))\n"
   ]
  },
  {
   "cell_type": "code",
   "execution_count": null,
   "metadata": {},
   "outputs": [],
   "source": [
    "# Escape New Line + Back Slash\n",
    "print(\"Hello \\\n",
    "I Love \\\n",
    "Python\")"
   ]
  },
  {
   "cell_type": "code",
   "execution_count": null,
   "metadata": {},
   "outputs": [],
   "source": [
    "\n",
    "# Escape Back Slash\n",
    "# print(\"I Love Back Slash \\Ahemd\\\\\")\n",
    "\n",
    "# Escape Single Quote\n",
    "# print('I Love Single Quote \\'Test\\' ')\n",
    "\n",
    "# Escape Double Quotes\n",
    "# print(\"I Love Double Quotes \\\"Test\\\" \")\n"
   ]
  },
  {
   "cell_type": "code",
   "execution_count": null,
   "metadata": {},
   "outputs": [],
   "source": [
    "# Carriage Return\n",
    "print(\"123456\\rAbcde\")"
   ]
  },
  {
   "cell_type": "code",
   "execution_count": 1,
   "metadata": {},
   "outputs": [
    {
     "name": "stdout",
     "output_type": "stream",
     "text": [
      "O s\n"
     ]
    }
   ],
   "source": [
    "# Character Hex Value\n",
    "print(\"\\x4F \\x73\")\n",
    "# Hello From Abdallah\n"
   ]
  }
 ],
 "metadata": {
  "kernelspec": {
   "display_name": "Python 3",
   "language": "python",
   "name": "python3"
  },
  "language_info": {
   "codemirror_mode": {
    "name": "ipython",
    "version": 3
   },
   "file_extension": ".py",
   "mimetype": "text/x-python",
   "name": "python",
   "nbconvert_exporter": "python",
   "pygments_lexer": "ipython3",
   "version": "3.10.9"
  },
  "orig_nbformat": 4,
  "vscode": {
   "interpreter": {
    "hash": "1de7a48af1223212fbab08e900bdff8f37c1428b665fd465c89f9c7893b1c688"
   }
  }
 },
 "nbformat": 4,
 "nbformat_minor": 2
}
