{
 "cells": [
  {
   "cell_type": "code",
   "execution_count": 20,
   "metadata": {},
   "outputs": [
    {
     "name": "stdout",
     "output_type": "stream",
     "text": [
      "O s\n"
     ]
    }
   ],
   "source": [
    "# ----------------------------\n",
    "# Escape Sequences Characters\n",
    "# \\b => Back Space\n",
    "# \\n (newline) => Escape New Line + \\\n",
    "# \\\\ => Escape Back Slash\n",
    "# \\' => Escape Single Quotes\n",
    "# \\\" => Escape Double Quotes\n",
    "# \\r => Carriage Return\n",
    "# \\t => Horizontal Tab\n",
    "# \\xhh => Character Hex Value\n",
    "# ----------------------------\n",
    "\n",
    "# Back Space\n",
    "# print(\"Hello \\bWorld\")  # Will Remove o\n",
    "\n",
    "# Escape New Line + Back Slash\n",
    "# print(\"Hello \\\n",
    "# I Love \\\n",
    "# Python\")\n",
    "\n",
    "# Escape Back Slash\n",
    "# print(\"I Love Back Slash \\Ahemd\\\\\")\n",
    "\n",
    "# Escape Single Quote\n",
    "# print('I Love Single Quote \\'Test\\' ')\n",
    "\n",
    "# Escape Double Quotes\n",
    "# print(\"I Love Double Quotes \\\"Test\\\" \")\n",
    "\n",
    "# Line Feed\n",
    "# print(\"Hello World\\nSecond Line\\nThird Line\")\n",
    "\n",
    "# Carriage Return\n",
    "# print(\"123456\\rAbcde\")\n",
    "\n",
    "# Horizontal Tab\n",
    "# print(\"Hello\\tPython\")\n",
    "\n",
    "# Character Hex Value\n",
    "print(\"\\x4F \\x73\")"
   ]
  }
 ],
 "metadata": {
  "kernelspec": {
   "display_name": "Python 3",
   "language": "python",
   "name": "python3"
  },
  "language_info": {
   "codemirror_mode": {
    "name": "ipython",
    "version": 3
   },
   "file_extension": ".py",
   "mimetype": "text/x-python",
   "name": "python",
   "nbconvert_exporter": "python",
   "pygments_lexer": "ipython3",
   "version": "3.10.9"
  },
  "orig_nbformat": 4,
  "vscode": {
   "interpreter": {
    "hash": "1de7a48af1223212fbab08e900bdff8f37c1428b665fd465c89f9c7893b1c688"
   }
  }
 },
 "nbformat": 4,
 "nbformat_minor": 2
}
