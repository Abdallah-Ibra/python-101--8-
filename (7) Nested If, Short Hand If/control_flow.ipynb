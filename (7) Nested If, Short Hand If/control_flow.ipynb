{
 "cells": [
  {
   "cell_type": "markdown",
   "metadata": {},
   "source": [
    "### --> Control Flow (if, elif, else) <--"
   ]
  },
  {
   "cell_type": "code",
   "execution_count": 4,
   "metadata": {},
   "outputs": [
    {
     "name": "stdout",
     "output_type": "stream",
     "text": [
      "Welcome Home!\n",
      "This is Another Sentence!\n"
     ]
    }
   ],
   "source": [
    "\"\"\"\n",
    "\n",
    "if (Condition1):\n",
    "    Expresion1\n",
    "elif (condition2):\n",
    "    Expresion2\n",
    "elif (condition2):\n",
    "    Expresion2\n",
    "elif (condition3):\n",
    "    Expresion3\n",
    "elif (condition4):\n",
    "    Expresion4\n",
    "else:\n",
    "    Expresion5\n",
    "\n",
    "\"\"\"\n",
    "\n",
    "\n",
    "\n",
    "\n",
    "\n",
    "# name = input(\"Enter Your Name: \").strip().lower()\n",
    "# if (name == \"abdallah\"):\n",
    "#     print(\"Welcome Home \"+name)\n",
    "# else:\n",
    "#     print(\"Welcome Guest!\")\n",
    "\n",
    "# print(\"Hope To See You\")\n",
    "# print(\"Have A Good Day!\")"
   ]
  },
  {
   "cell_type": "code",
   "execution_count": 19,
   "metadata": {},
   "outputs": [],
   "source": [
    "age = int(input(\"Enter Your Age Please: \"))\n",
    "\n",
    "if (age > 18):\n",
    "    print(\"You Are Accepted!\")\n",
    "elif (age == 18):\n",
    "    print(\"Your Are 18, Accepted!\")\n",
    "# elif (age < 18):\n",
    "#     print(\"Sorry, Your Are Rejected!\")\n",
    "else:\n",
    "    print(\"Sorry, Your Are Rejected!\")\n",
    "\n"
   ]
  },
  {
   "cell_type": "code",
   "execution_count": 37,
   "metadata": {},
   "outputs": [
    {
     "name": "stdout",
     "output_type": "stream",
     "text": [
      "Error Value!\n"
     ]
    }
   ],
   "source": [
    "# grade >= 95 --> Very Excellent\n",
    "# grade >= 90 --> Excellent\n",
    "# grade >= 80 --> Very Good\n",
    "# grade >= 70 --> Good\n",
    "# grade >= 60 --> Accepted\n",
    "# grade < 60 --> Fail\n",
    "grade = 101\n",
    "# if (grade >= 100):\n",
    "#     print(\"Error Value!\")\n",
    "# elif (grade < 0):\n",
    "#     print(\"Error Value!\")\n",
    "    # True        and    False  --> False\n",
    "    # True        or    False  --> False\n",
    "if (grade >= 100) or (grade < 0):\n",
    "    print(\"Error Value!\")\n",
    "elif (grade >=95):\n",
    "    print(\"Very Excellent\")\n",
    "elif (grade >=90):\n",
    "    print(\"Excellent\")\n",
    "elif (grade >=80):\n",
    "    print(\"Very Good\")\n",
    "elif (grade >=70):\n",
    "    print(\"Good\")\n",
    "elif (grade >=60):\n",
    "    print(\"Accepted\")\n",
    "else:\n",
    "    print(\"Fail\")"
   ]
  },
  {
   "cell_type": "code",
   "execution_count": null,
   "metadata": {},
   "outputs": [],
   "source": [
    "grade = 90\n",
    "if (grade >= 100):\n",
    "    print(\"Error Value!\")\n",
    "if (grade < 0):\n",
    "    print(\"Error Value!\")\n",
    "if (grade >=95):\n",
    "    print(\"Very Excellent\")\n",
    "if (grade >=90):\n",
    "    print(\"Excellent\")\n",
    "if (grade >=80):\n",
    "    print(\"Very Good\")\n",
    "if (grade >=70):\n",
    "    print(\"Good\")\n",
    "if (grade >=60):\n",
    "    print(\"Accepted\")\n",
    "if (grade < 60):\n",
    "    print(\"Fail\")"
   ]
  },
  {
   "cell_type": "code",
   "execution_count": null,
   "metadata": {},
   "outputs": [],
   "source": [
    "#  Write A Program To Check if The Length Of Name is Greater than or Equal 3.\n",
    "# if name is valid say hi to user, else say invalid name.\n",
    "\n",
    "# 1) if Condition.\n",
    "# 2) len(). \n",
    "# 3) >=3 (True condition) ==> print(\"Hi User!\") ,else ==> print(\"Invalid Name Length!\")\n",
    "\n",
    "\n",
    "name = input(\"[?] Enter Your Name: \").strip()\n",
    "if len(name) >= 3:\n",
    "    print(f\"Hi --> {name.title()}.\")\n",
    "else:\n",
    "    print(f\"Invalid Name Length: {name}!\")"
   ]
  },
  {
   "cell_type": "markdown",
   "metadata": {},
   "source": [
    "### Task on control Flow\n",
    "\n",
    "#### Write A Program To check if Website is Valid or Not. The valid Website Must Starts with \"http://\" or \"https://\".\n",
    "\n",
    "##### For EX. /\n",
    "##### Valid Website ==> https://www.google.com or http://www.google.com\n",
    "##### InValid Website ==> sysite.com\n"
   ]
  },
  {
   "cell_type": "code",
   "execution_count": null,
   "metadata": {},
   "outputs": [],
   "source": [
    "website = input(\"Enter Your Website: \").strip().lower()\n",
    "\n",
    "if (website.startswith(\"http://\")) or (website.startswith(\"https://\")):\n",
    "    print(f\"Valid Website --> {website}\")\n",
    "else:\n",
    "    print(\"Invalid Website!\")"
   ]
  },
  {
   "cell_type": "markdown",
   "metadata": {},
   "source": [
    "#### Short Hand If [Ternary Operator] && Nested If"
   ]
  },
  {
   "cell_type": "code",
   "execution_count": 9,
   "metadata": {},
   "outputs": [
    {
     "name": "stdout",
     "output_type": "stream",
     "text": [
      "B\n"
     ]
    }
   ],
   "source": [
    "# a = 330\n",
    "# b = 330\n",
    "\n",
    "# if a > b:\n",
    "#     print(\"A\")\n",
    "# elif a == b:\n",
    "#     print(\"A == B\")\n",
    "# else:\n",
    "#     print(\"B\")\n",
    "\n",
    "# if a > b:\n",
    "#     print(\"A\")\n",
    "# else:\n",
    "#     if a == b:\n",
    "#         print(\"A == B\")\n",
    "#     else:\n",
    "#         print(\"B\")\n",
    "\n",
    "\n",
    "a = 401\n",
    "b = 402\n",
    "# if a == b:\n",
    "#   print('A and B are Equals!')\n",
    "# elif a > b:\n",
    "#   print('A is Larger!')\n",
    "# else:\n",
    "#   print('B is Larger!')\n",
    "\n",
    "# if a == b:\n",
    "#   print('Equals')\n",
    "# else:\n",
    "#   # a > b\n",
    "#   if a > b:\n",
    "#     print('A')\n",
    "#   # b > a\n",
    "#   else:\n",
    "#     print('B')\n",
    "\n",
    "# statemnt(1) if condition(1) else statement(2)\n",
    "\n",
    "# print('A') if a > b else print('B')\n",
    "\n",
    "result = 'Equals' if a == b else 'A' if a > b else 'B'\n",
    "\n",
    "print(result)\n"
   ]
  },
  {
   "cell_type": "code",
   "execution_count": 11,
   "metadata": {},
   "outputs": [],
   "source": [
    "# ** Short Hand IF Form:\n",
    "# -----------------------------------------\n",
    "# Expresion1 if Condition1 else Expresion2 if Condition2 else Expresion3\n",
    "# -----------------------------------------\n",
    "\n",
    "# if Condition1:\n",
    "#     Expression1\n",
    "# else:\n",
    "    # if Condition2:\n",
    "        # Expresion2\n",
    "    # else:\n",
    "        # Expression3"
   ]
  },
  {
   "cell_type": "code",
   "execution_count": null,
   "metadata": {},
   "outputs": [],
   "source": [
    "name = input('Enter Your Name: ').strip().lower()\n",
    "# if len(name) >= 3:\n",
    "#     print(\"Welcome {}\".format(name.title()))\n",
    "# else:\n",
    "#     print(\"Invalid Name Length!\")\n",
    "\n",
    "# if len(name) > 3:\n",
    "#     print(\">  3\")\n",
    "# else:\n",
    "    ## Nested If ##\n",
    "    # if len(name) == 3:\n",
    "    #     print(\"== 3\")\n",
    "    # else:\n",
    "        # print(\"< 3\")\n",
    "\n",
    "\n",
    "print(\"Welcome {}\".format(name.title())) if (len(name)>3) else print(\"Name Length == 3\") if len(name) == 3 else print(\"Invalid Name Length!\")\n",
    "\n",
    "#        التعبير الخاص بالشرط الأول                                                   "
   ]
  },
  {
   "cell_type": "code",
   "execution_count": null,
   "metadata": {},
   "outputs": [],
   "source": [
    "age = int(input('What\\'s Your Age ? '))\n",
    "months = age*12\n",
    "weeks = months*4\n",
    "days = age * 365\n",
    "hours = days * 24\n",
    "minutes = hours * 60\n",
    "seconds = minutes * 60\n",
    "\n",
    "print(f\"Age: {age}\")\n",
    "print(\"Your Lived For: \")\n",
    "print(f\"==> {age} Years.\")\n",
    "print(f\"==> {months} Months.\")\n",
    "print(f\"==> {weeks} weeks.\")\n",
    "print(f\"==> {days} days.\")\n",
    "print(f\"==> {hours} hours.\")\n",
    "print(f\"==> {minutes} minutes.\")\n",
    "print(f\"==> {seconds} seconds.\")\n"
   ]
  },
  {
   "cell_type": "code",
   "execution_count": 42,
   "metadata": {},
   "outputs": [
    {
     "name": "stdout",
     "output_type": "stream",
     "text": [
      "20 --> is the largest\n"
     ]
    }
   ],
   "source": [
    "#! Python Program to Check if a Number Odd or Even\n",
    "#! Python Program to Find The Largest Among Three Numbers\n",
    "\n",
    "## Task1 ##\n",
    "\n",
    "# myNum = int(input(\"Enter Your Number: \"))\n",
    "# if myNum == 0:\n",
    "#     print(\"Invalid Input --> Zero!\")\n",
    "# elif myNum % 2 == 0:\n",
    "#     print(f\"Even Number --> {myNum}\")\n",
    "# else:\n",
    "#     print(f\"Odd Number --> {myNum}\")\n",
    "\n",
    "# if myNum == 0:\n",
    "#     print(\"Invalid Input --> Zero!\")\n",
    "# else:\n",
    "#     if myNum % 2 == 0:\n",
    "#         print(f\"Even Number --> {myNum}\")\n",
    "#     else:\n",
    "#         print(f\"Odd Number --> {myNum}\")\n",
    "\n",
    "## Task2 ##\n",
    "num_one = int(input(\"Enter Number1:\"))\n",
    "num_two = int(input(\"Enter Number2:\"))\n",
    "num_three = int(input(\"Enter Number3:\"))\n",
    "\n",
    "if (num_one == num_two) and (num_one == num_three):\n",
    "   print(\"All Numbers Are Equals!\")\n",
    "else:\n",
    "   if(num_one > num_two) and (num_one > num_three):\n",
    "      print(f\"{num_one} --> is the largest\")\n",
    "      \n",
    "   elif(num_two > num_one) and (num_two > num_three):\n",
    "      print(f\"{num_two} --> is the largest\")\n",
    "      \n",
    "   else:\n",
    "      print(f\"{num_three} --> is the largest\")"
   ]
  }
 ],
 "metadata": {
  "kernelspec": {
   "display_name": "Python 3",
   "language": "python",
   "name": "python3"
  },
  "language_info": {
   "codemirror_mode": {
    "name": "ipython",
    "version": 3
   },
   "file_extension": ".py",
   "mimetype": "text/x-python",
   "name": "python",
   "nbconvert_exporter": "python",
   "pygments_lexer": "ipython3",
   "version": "3.10.9 (tags/v3.10.9:1dd9be6, Dec  6 2022, 20:01:21) [MSC v.1934 64 bit (AMD64)]"
  },
  "orig_nbformat": 4,
  "vscode": {
   "interpreter": {
    "hash": "1de7a48af1223212fbab08e900bdff8f37c1428b665fd465c89f9c7893b1c688"
   }
  }
 },
 "nbformat": 4,
 "nbformat_minor": 2
}
