{
 "cells": [
  {
   "cell_type": "code",
   "execution_count": 2,
   "metadata": {},
   "outputs": [
    {
     "name": "stdout",
     "output_type": "stream",
     "text": [
      "<qrcode.image.pil.PilImage object at 0x0000017725EC2F10>\n"
     ]
    }
   ],
   "source": [
    "\n",
    "# Importing library\n",
    "import qrcode\n",
    "# Data to be encoded\n",
    "data = 'https://instagram.com/dev.abdallah.it'\n",
    "# Encoding data using make() function\n",
    "img = qrcode.make(data)\n",
    "# Saving as an image file\n",
    "img.save('MyQRCode1.png')"
   ]
  }
 ],
 "metadata": {
  "kernelspec": {
   "display_name": "Python 3.9.12 64-bit",
   "language": "python",
   "name": "python3"
  },
  "language_info": {
   "codemirror_mode": {
    "name": "ipython",
    "version": 3
   },
   "file_extension": ".py",
   "mimetype": "text/x-python",
   "name": "python",
   "nbconvert_exporter": "python",
   "pygments_lexer": "ipython3",
   "version": "3.9.12"
  },
  "orig_nbformat": 4,
  "vscode": {
   "interpreter": {
    "hash": "f356935e4fe4ba36f2e0aaedb49d9fb3ca947bc7777e96982013e6cd328d5480"
   }
  }
 },
 "nbformat": 4,
 "nbformat_minor": 2
}
