{
 "cells": [
  {
   "cell_type": "code",
   "execution_count": 10,
   "metadata": {},
   "outputs": [
    {
     "name": "stdout",
     "output_type": "stream",
     "text": [
      "Odd\n"
     ]
    }
   ],
   "source": [
    "# num = 3\n",
    "# if num%2 == 0:\n",
    "#     print('Even')\n",
    "# else:\n",
    "#     print('Odd')\n",
    "\n",
    "num = 102013\n",
    "#! Ternary if - Short Hand if \n",
    "# print('Even') if num%2==0 else print('odd')\n",
    "# if num == 0:\n",
    "#     print('Zero')\n",
    "# else:\n",
    "#     if num%2 == 0:\n",
    "#         print('Even')\n",
    "#     else:\n",
    "#         print('Odd')\n",
    "\n",
    "print('Zero') if num == 0 else print('Even') if num%2 == 0 else print('Odd')\n"
   ]
  }
 ],
 "metadata": {
  "kernelspec": {
   "display_name": "Python 3",
   "language": "python",
   "name": "python3"
  },
  "language_info": {
   "codemirror_mode": {
    "name": "ipython",
    "version": 3
   },
   "file_extension": ".py",
   "mimetype": "text/x-python",
   "name": "python",
   "nbconvert_exporter": "python",
   "pygments_lexer": "ipython3",
   "version": "3.10.9"
  },
  "orig_nbformat": 4,
  "vscode": {
   "interpreter": {
    "hash": "1de7a48af1223212fbab08e900bdff8f37c1428b665fd465c89f9c7893b1c688"
   }
  }
 },
 "nbformat": 4,
 "nbformat_minor": 2
}
