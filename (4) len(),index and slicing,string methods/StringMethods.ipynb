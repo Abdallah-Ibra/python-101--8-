{
 "cells": [
  {
   "cell_type": "code",
   "execution_count": null,
   "metadata": {},
   "outputs": [],
   "source": [
    "### >>> String Methods <<< ###\n",
    "##### 01. len()\n",
    "##### 02. strip() , rstrip() , lstrip()\n",
    "##### 03. split()\n",
    "##### 04. title()\n",
    "##### 05. capitalize()\n",
    "##### 06. zfill()\n",
    "##### 07. upper()\n",
    "##### 08. lower()\n",
    "##### 09. center()\n",
    "##### 10. count()\n",
    "##### 11. swapcase()\n",
    "##### 12. startsWith()\n",
    "##### 13. endswith()\n",
    "##### 14. index(SubString,Start,End)\n",
    "##### 15. find(SubString,Start,End)\n",
    "##### 16. rjust(Width,Fill Char) , ljust(Width,Fill Char)\n",
    "##### 17. splitlines()\n",
    "##### 18. expandtabscc()\n",
    "##### 19. istitle()\n",
    "##### 20. isspace()\n",
    "##### 21. islower()\n",
    "##### 22. isidentifier()\n",
    "##### 23. isalpha()\n",
    "##### 24. isalnum()\n",
    "##### 25. replace(Old Value , New Value, Count)\n",
    "##### 26. join(Iterable)\n",
    "##### 27. index(SubString, Start, End)"
   ]
  },
  {
   "cell_type": "markdown",
   "metadata": {},
   "source": [
    "### len() Method"
   ]
  },
  {
   "cell_type": "code",
   "execution_count": 1,
   "metadata": {},
   "outputs": [
    {
     "name": "stdout",
     "output_type": "stream",
     "text": [
      "The Length of a: 13 chars.\n",
      "The Length of b: 17 chars.\n"
     ]
    }
   ],
   "source": [
    "# len() --> Length\n",
    "a = \"I Love Python\"\n",
    "b = \"  I Love Python  \"\n",
    "print(f'The Length of a: {len(a)} chars.')\n",
    "print(f'The Length of b: {len(b)} chars.')\n",
    "# ------------------------------------------"
   ]
  },
  {
   "cell_type": "markdown",
   "metadata": {},
   "source": [
    "### strip() , rstrip() , lstrip() Methods"
   ]
  },
  {
   "cell_type": "code",
   "execution_count": 10,
   "metadata": {},
   "outputs": [
    {
     "name": "stdout",
     "output_type": "stream",
     "text": [
      "#@#Abdallah#@Ibrahim\n",
      "Abdallah#@Ibrahim#@#\n"
     ]
    }
   ],
   "source": [
    "# strip() , rstrip() , lstrip()\n",
    "a = 'Hello From Python'\n",
    "b = '  Abdallah Ibrahim  '\n",
    "z = '#@#Abdallah#@Ibrahim#@#'\n",
    "# print(a)\n",
    "# print(b)\n",
    "# print(b.strip())\n",
    "# print(z.strip('#@'))\n",
    "print(z.rstrip('#@'))\n",
    "print(z.lstrip('#@'))\n"
   ]
  },
  {
   "cell_type": "markdown",
   "metadata": {},
   "source": [
    "### title() Method"
   ]
  },
  {
   "cell_type": "code",
   "execution_count": 12,
   "metadata": {},
   "outputs": [
    {
     "name": "stdout",
     "output_type": "stream",
     "text": [
      "I love 2d graphical and 3g technology and python\n",
      "I Love 2D Graphical And 3G Technology And Python\n"
     ]
    }
   ],
   "source": [
    "c = \"I love 2d graphical and 3g technology and python\"\n",
    "print(c)\n",
    "print(c.title())"
   ]
  },
  {
   "cell_type": "markdown",
   "metadata": {},
   "source": [
    "### capitalize() Method"
   ]
  },
  {
   "cell_type": "code",
   "execution_count": 13,
   "metadata": {},
   "outputs": [
    {
     "name": "stdout",
     "output_type": "stream",
     "text": [
      "i love 2d graphical and 3g technology and python\n",
      "I love 2d graphical and 3g technology and python\n"
     ]
    }
   ],
   "source": [
    "c = \"i love 2d graphical and 3g technology and python\"\n",
    "print(c)\n",
    "print(c.capitalize())"
   ]
  },
  {
   "cell_type": "markdown",
   "metadata": {},
   "source": [
    "### zfill() Method"
   ]
  },
  {
   "cell_type": "code",
   "execution_count": 21,
   "metadata": {},
   "outputs": [
    {
     "name": "stdout",
     "output_type": "stream",
     "text": [
      "001. Abdallah\n",
      "011. Abdallah\n",
      "111. Abdallah\n"
     ]
    }
   ],
   "source": [
    "# Zfill() --> Zero Filler\n",
    "\n",
    "# a = '1'\n",
    "# b = '11'\n",
    "# c = '111'\n",
    "a,b,c = '1','11','111'\n",
    "\n",
    "print(f'{a.zfill(3)}. Abdallah')\n",
    "print(f'{b.zfill(3)}. Abdallah')\n",
    "print(f'{c.zfill(3)}. Abdallah')"
   ]
  },
  {
   "cell_type": "markdown",
   "metadata": {},
   "source": [
    "### upper() Method"
   ]
  },
  {
   "cell_type": "code",
   "execution_count": 23,
   "metadata": {},
   "outputs": [
    {
     "name": "stdout",
     "output_type": "stream",
     "text": [
      "Welcome Home MOHAMMED!\n"
     ]
    }
   ],
   "source": [
    "a = \"mohammed\"\n",
    "print(f'Welcome Home {a.upper()}!')"
   ]
  },
  {
   "cell_type": "markdown",
   "metadata": {},
   "source": [
    "### lower() Method"
   ]
  },
  {
   "cell_type": "code",
   "execution_count": 26,
   "metadata": {},
   "outputs": [
    {
     "name": "stdout",
     "output_type": "stream",
     "text": [
      "myasdzxc.15zxcd@gmail.com\n"
     ]
    }
   ],
   "source": [
    "email = '   MyASDzxc.15zxcd@GMAIL.com   '\n",
    "print(email.strip().lower())"
   ]
  },
  {
   "cell_type": "markdown",
   "metadata": {},
   "source": [
    "### split(), rsplit() Methods"
   ]
  },
  {
   "cell_type": "code",
   "execution_count": 45,
   "metadata": {},
   "outputs": [
    {
     "name": "stdout",
     "output_type": "stream",
     "text": [
      "['I', 'Love_Python', 'and', 'PHP', 'and', 'MySQL']\n",
      "['I', 'Love_Python', 'and', 'PHP', 'and-MySQL']\n"
     ]
    }
   ],
   "source": [
    "# fullName = 'abdallah ibrahim'\n",
    "# print(fullName.title())\n",
    "# print(fullName.split()[0])\n",
    "# print(fullName.split()[1])\n",
    "\n",
    "# name = fullName.split()\n",
    "# print(f'[#] First Name: {name[0].title()}')\n",
    "# print(f'[#] Last Name: {name[1].title()}')\n",
    "\n",
    "\n",
    "credits = 'helloworld@test.com:mypassword'\n",
    "# print(len(credits.split(':')))\n",
    "# print('Email --> {}'.format(credits.split(':')[0]))\n",
    "# print('Password --> {}'.format(credits.split(':')[-1]))\n",
    "# email,password = credits.split(':')\n",
    "# print(email)\n",
    "# print(password)\n",
    "\n",
    "\n",
    "\n",
    "c = \"I-Love_Python-and-PHP-and-MySQL\"\n",
    "print(c.split('-'))\n",
    "print(c.split('-'))"
   ]
  },
  {
   "cell_type": "markdown",
   "metadata": {},
   "source": [
    "### center() Method"
   ]
  },
  {
   "cell_type": "code",
   "execution_count": 49,
   "metadata": {},
   "outputs": [
    {
     "name": "stdout",
     "output_type": "stream",
     "text": [
      "#### Hussien #####\n",
      "@@@@@ Hussien @@@@@@\n"
     ]
    }
   ],
   "source": [
    "e = \" Hussien \"\n",
    "# print(e.center(18))\n",
    "print(e.center(18,\"#\"))\n",
    "print(e.center(20,\"@\"))"
   ]
  },
  {
   "cell_type": "markdown",
   "metadata": {},
   "source": [
    "### count() Method"
   ]
  },
  {
   "cell_type": "code",
   "execution_count": 54,
   "metadata": {},
   "outputs": [
    {
     "name": "stdout",
     "output_type": "stream",
     "text": [
      "2\n",
      "1\n"
     ]
    }
   ],
   "source": [
    "f = \"I Love Python and PHP Because PHP is Easy\"\n",
    "# print(f.count(\"Python\"))\n",
    "print(f.count(\"PHP\"))\n",
    "print(f.count(\"PHP\",0,30)) # only one PHP word"
   ]
  },
  {
   "cell_type": "markdown",
   "metadata": {},
   "source": [
    "### swapcase() Method"
   ]
  },
  {
   "cell_type": "code",
   "execution_count": 55,
   "metadata": {},
   "outputs": [
    {
     "name": "stdout",
     "output_type": "stream",
     "text": [
      "i lOVE pYTHON\n",
      "I Love Python\n"
     ]
    }
   ],
   "source": [
    "g = \"I Love Python\"\n",
    "h = \"i lOVE pYTHON\"\n",
    "\n",
    "\n",
    "print(g.swapcase())\n",
    "print(h.swapcase())"
   ]
  },
  {
   "cell_type": "markdown",
   "metadata": {},
   "source": [
    "### startsWith() Method"
   ]
  },
  {
   "cell_type": "code",
   "execution_count": 58,
   "metadata": {},
   "outputs": [
    {
     "name": "stdout",
     "output_type": "stream",
     "text": [
      "True\n",
      "False\n",
      "True\n"
     ]
    }
   ],
   "source": [
    "i = \"I Love Python\"\n",
    "print(i.startswith(\"I\"))\n",
    "print(i.startswith(\"S\"))\n",
    "print(i.startswith(\"P\",7,12))"
   ]
  },
  {
   "cell_type": "markdown",
   "metadata": {},
   "source": [
    "### endswith() Method"
   ]
  },
  {
   "cell_type": "code",
   "execution_count": 60,
   "metadata": {},
   "outputs": [
    {
     "name": "stdout",
     "output_type": "stream",
     "text": [
      "True\n",
      "True\n"
     ]
    }
   ],
   "source": [
    "j = \"I Love Python\"\n",
    "print(j.endswith(\"n\"))\n",
    "print(j.endswith(\"P\",2,8))\n",
    "\n"
   ]
  },
  {
   "cell_type": "markdown",
   "metadata": {},
   "source": [
    "### index(SubString,Start,End) Method"
   ]
  },
  {
   "cell_type": "code",
   "execution_count": 65,
   "metadata": {},
   "outputs": [
    {
     "ename": "ValueError",
     "evalue": "substring not found",
     "output_type": "error",
     "traceback": [
      "\u001b[1;31m---------------------------------------------------------------------------\u001b[0m",
      "\u001b[1;31mValueError\u001b[0m                                Traceback (most recent call last)",
      "Cell \u001b[1;32mIn [65], line 6\u001b[0m\n\u001b[0;32m      1\u001b[0m a \u001b[39m=\u001b[39m \u001b[39m\"\u001b[39m\u001b[39mI Love PythoPn\u001b[39m\u001b[39m\"\u001b[39m\n\u001b[0;32m      2\u001b[0m \u001b[39m# print(a.index(\"P\")) # Index Number 7\u001b[39;00m\n\u001b[0;32m      3\u001b[0m \u001b[39m# print(a[7])\u001b[39;00m\n\u001b[0;32m      4\u001b[0m \u001b[39m# print(a.index('z'))\u001b[39;00m\n\u001b[0;32m      5\u001b[0m \u001b[39m# print(a.index(\"P\",8,)) # Index Number 12\u001b[39;00m\n\u001b[1;32m----> 6\u001b[0m \u001b[39mprint\u001b[39m(a\u001b[39m.\u001b[39;49mindex(\u001b[39m\"\u001b[39;49m\u001b[39mP\u001b[39;49m\u001b[39m\"\u001b[39;49m,\u001b[39m0\u001b[39;49m,\u001b[39m5\u001b[39;49m))\n",
      "\u001b[1;31mValueError\u001b[0m: substring not found"
     ]
    }
   ],
   "source": [
    "a = \"I Love PythoPn\"\n",
    "# print(a.index(\"P\")) # Index Number 7\n",
    "# print(a[7])\n",
    "# print(a.index('z'))\n",
    "# print(a.index(\"P\",8,)) # Index Number 12\n",
    "# print(a.index(\"P\",0,5)) # Through Error!"
   ]
  },
  {
   "cell_type": "markdown",
   "metadata": {},
   "source": [
    "### find(SubString,Start,End) Method"
   ]
  },
  {
   "cell_type": "code",
   "execution_count": 67,
   "metadata": {},
   "outputs": [
    {
     "name": "stdout",
     "output_type": "stream",
     "text": [
      "7\n",
      "-1\n"
     ]
    }
   ],
   "source": [
    "b = \"I Love Python\"\n",
    "print(b.find(\"P\")) # Index Number 7\n",
    "# print(b.find(\"P\",0,10)) # Index Number 7\n",
    "print(b.find(\"P\",0,5)) # -1 => Not Found!\n"
   ]
  },
  {
   "cell_type": "markdown",
   "metadata": {},
   "source": [
    "### rjust(Width,Fill Char) , ljust(Width,Fill Char) Methods\n"
   ]
  },
  {
   "cell_type": "code",
   "execution_count": 70,
   "metadata": {},
   "outputs": [
    {
     "name": "stdout",
     "output_type": "stream",
     "text": [
      "    Python\n",
      "##############Python\n",
      "Python    \n",
      "Python#########\n"
     ]
    }
   ],
   "source": [
    "c = \"Python\"\n",
    "print(c.rjust(10))\n",
    "print(c.rjust(20,\"#\"))\n",
    "\n",
    "d = \"Python\"\n",
    "print(d.ljust(10))\n",
    "print(d.ljust(15,\"#\"))"
   ]
  },
  {
   "cell_type": "markdown",
   "metadata": {},
   "source": [
    "### splitlines() Method"
   ]
  },
  {
   "cell_type": "code",
   "execution_count": null,
   "metadata": {},
   "outputs": [],
   "source": [
    "e = \"\"\"First Line \n",
    "Second Line\n",
    "Third Line \"\"\"\n",
    "\n",
    "# print(e.splitlines())\n",
    "# print(e.split(\"\\n\"))\n",
    "\n",
    "f = \"First Line\\nSecond Line\\nThird Line\"\n",
    "# print(f)\n",
    "# print(f.splitlines())"
   ]
  },
  {
   "cell_type": "markdown",
   "metadata": {},
   "source": [
    "### expandtabs() Method"
   ]
  },
  {
   "cell_type": "code",
   "execution_count": null,
   "metadata": {},
   "outputs": [],
   "source": [
    "g = \"Hello\\tWorld\\tI\\tLove\\tPython\"  \n",
    "# print(g)\n",
    "# print(g.expandtabs(2))\n",
    "# print(g.expandtabs(10))"
   ]
  },
  {
   "cell_type": "markdown",
   "metadata": {},
   "source": [
    "### istitle() Method"
   ]
  },
  {
   "cell_type": "code",
   "execution_count": null,
   "metadata": {},
   "outputs": [],
   "source": [
    "one = \"I Love Python And 3G\"\n",
    "two = \"I Love Python And 3g\"\n",
    "print(one.istitle())\n",
    "print(two.istitle())"
   ]
  },
  {
   "cell_type": "markdown",
   "metadata": {},
   "source": [
    "### isspace() Method"
   ]
  },
  {
   "cell_type": "code",
   "execution_count": null,
   "metadata": {},
   "outputs": [],
   "source": [
    "three = \" \"\n",
    "four = \"\"\n",
    "print(three.isspace())\n",
    "print(four.isspace())"
   ]
  },
  {
   "cell_type": "markdown",
   "metadata": {},
   "source": [
    "### islower() Method"
   ]
  },
  {
   "cell_type": "code",
   "execution_count": null,
   "metadata": {},
   "outputs": [],
   "source": [
    "five = 'i love python'\n",
    "six = 'I Love Python'\n",
    "print(five.islower())\n",
    "print(six.islower())"
   ]
  },
  {
   "cell_type": "markdown",
   "metadata": {},
   "source": [
    "### isidentifier() Method"
   ]
  },
  {
   "cell_type": "code",
   "execution_count": null,
   "metadata": {},
   "outputs": [],
   "source": [
    "seven = \"abdullah_ibrahim\"\n",
    "eight = \"__AbdullahIbrahim0o0\"\n",
    "nine = \"Abdullah0-0Ibrahim0o0\"\n",
    "\n",
    "\n",
    "print(seven.isidentifier())\n",
    "print(eight.isidentifier())\n",
    "print(nine.isidentifier())"
   ]
  },
  {
   "cell_type": "markdown",
   "metadata": {},
   "source": [
    "### isalpha() Method"
   ]
  },
  {
   "cell_type": "code",
   "execution_count": null,
   "metadata": {},
   "outputs": [],
   "source": [
    "x = \"AaaaaaaaaaBbbbbbbbbbb\"\n",
    "y = \"AaaaaBbbbbbbb11\"\n",
    "print(x.isalpha())\n",
    "print(y.isalpha())"
   ]
  },
  {
   "cell_type": "markdown",
   "metadata": {},
   "source": [
    "### isalnum() Method"
   ]
  },
  {
   "cell_type": "code",
   "execution_count": null,
   "metadata": {},
   "outputs": [],
   "source": [
    "x = \"AaaaaaaaaaBbbbbbbbbbb\"\n",
    "y = 'aodka123'\n",
    "print(x.isalnum())\n",
    "print(y.isalnum())"
   ]
  },
  {
   "cell_type": "markdown",
   "metadata": {},
   "source": [
    "\n",
    "### replace(Old Value , New Value, Count) Method"
   ]
  },
  {
   "cell_type": "code",
   "execution_count": null,
   "metadata": {},
   "outputs": [],
   "source": [
    "a = \"Hello One Two Three One One World\"\n",
    "print(a.replace(\"One\",\"1\",2))\n",
    "# print(a.replace(\"One\",\"Ahmed\",2))\n",
    "# print(a.replace(\"One\",\"Adnan\",1))\n",
    "# print(a.replace(\"One\",\"Alex\",2))"
   ]
  },
  {
   "cell_type": "markdown",
   "metadata": {},
   "source": [
    "### join(Iterable) Method"
   ]
  },
  {
   "cell_type": "code",
   "execution_count": null,
   "metadata": {},
   "outputs": [],
   "source": [
    "myList = [\"Abdullah\",\"Ibrahim\",\"Mohammed\"]\n",
    "print(\"-\".join(myList))\n",
    "print(\" \".join(myList))\n",
    "print(\", \".join(myList))\n",
    "print(type(\", \".join(myList)))"
   ]
  }
 ],
 "metadata": {
  "kernelspec": {
   "display_name": "Python 3",
   "language": "python",
   "name": "python3"
  },
  "language_info": {
   "codemirror_mode": {
    "name": "ipython",
    "version": 3
   },
   "file_extension": ".py",
   "mimetype": "text/x-python",
   "name": "python",
   "nbconvert_exporter": "python",
   "pygments_lexer": "ipython3",
   "version": "3.10.9"
  },
  "orig_nbformat": 4,
  "vscode": {
   "interpreter": {
    "hash": "1de7a48af1223212fbab08e900bdff8f37c1428b665fd465c89f9c7893b1c688"
   }
  }
 },
 "nbformat": 4,
 "nbformat_minor": 2
}
