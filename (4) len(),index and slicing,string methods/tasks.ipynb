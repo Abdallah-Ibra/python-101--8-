{
 "cells": [
  {
   "cell_type": "markdown",
   "metadata": {},
   "source": [
    "\"            Welcome To My APP          \" \n",
    "\n",
    "--> Full Name\n",
    "--> Age\n",
    "--> Email\n",
    "username \n",
    "\n",
    "Thanks For Registration\n",
    "\n",
    "your Name is { Full Name } and Your Age is {Age} : String Formatting\n",
    "Your Email: aoisdjaod@sadasd.com\n",
    "Username: Aoisdj\n"
   ]
  },
  {
   "cell_type": "code",
   "execution_count": 39,
   "metadata": {},
   "outputs": [
    {
     "name": "stdout",
     "output_type": "stream",
     "text": [
      "\n",
      "      _______  _______  Welcome To My APP  _______  _______\n",
      "      \n",
      "\n",
      "[#] First Name: Abdallah\n",
      "[#] Last Name: Ibrahim\n",
      "[#] Email: uygyags6ashsdj@gmaiiasdll.com\n",
      "[#] Username: UYGYAGS6ASHSDJ\n"
     ]
    }
   ],
   "source": [
    "# banner = ' Hussien '.center(19,'$')\n",
    "# print(banner)\n",
    "print('''\n",
    "      _______  _______  Welcome To My APP  _______  _______\n",
    "      ''')\n",
    "\n",
    "full_name = input('[?] Enter Your Full Name: ').strip().title()\n",
    "email = input('[?] Enter Your Email: ').strip().lower()\n",
    "\n",
    "# full_name = 'abdallah ibrahim'.strip().title()\n",
    "# email = '   ilovePYThon@herO.Com   '.strip().lower()\n",
    "# print(full_name.split()[0])\n",
    "# print(full_name.split()[1])\n",
    "# print(email.strip().lower())\n",
    "# print(email.strip().lower().split('@')[0])\n",
    "\n",
    "print(f'\\n[#] First Name: {full_name.split()[0]}')\n",
    "print(f'[#] Last Name: {full_name.split()[1]}')\n",
    "print(f'[#] Email: {email}')\n",
    "print(f'[#] Username: {email.split(\"@\")[0].upper()}')\n"
   ]
  },
  {
   "cell_type": "code",
   "execution_count": null,
   "metadata": {},
   "outputs": [],
   "source": [
    "account = \"abdasddasd:279321jn\"\n",
    "full_name = \"   abdallah ibrahim\"\n",
    "details = \"   age: 24, Salary Rate is 2500$ and mobile is 567898765\" \n",
    "# account.split()  --> [\"abdasddasd:279321jn\"]\n",
    "# account.split(\":\")  --> [\"abdasddasd\",\"279321jn\"]\n",
    "username = account.split(\":\")[0]\n",
    "password = account.split(\":\")[1]\n",
    "first_name =  full_name.split()[0].strip()\n",
    "last_name = full_name.split()[1]\n",
    "age = details[  details.index(\"age:\") :  details.index(\",\") ].title()\n",
    "salary = details[  details.index(\"Salary\") :  details.index(\"$\")+1 ].title()\n",
    "mobile =  details[  details.index(\"mobile\") :  ].title()\n",
    "banner = '''\n",
    "===============================================\n",
    "                Your Details\n",
    "===============================================\n",
    "'''\n",
    "print(banner)\n",
    "print(\"Username: \"+ username)\n",
    "print(\"password: \"+password)\n",
    "print(\"First Name: \"+first_name)\n",
    "print(\"Lsat Name: \"+last_name)\n",
    "print(age)\n",
    "print(salary)\n",
    "print(mobile)"
   ]
  },
  {
   "cell_type": "markdown",
   "metadata": {},
   "source": [
    "Write a Python program to get a string from a given string where all occurrences of its first char have been changed to '$', except the first char itself.\n",
    "\n",
    "word = Enter Your word\n",
    "replaced_char = Enter Your character To Replace\n",
    "new_char  = Enter New Character Your Want To Replace "
   ]
  },
  {
   "cell_type": "code",
   "execution_count": null,
   "metadata": {},
   "outputs": [],
   "source": [
    "# txt  = \"Lorem Ipsum is simply dummy text of the printing and typesetting industry. Lorem Ipsum has been the industry's standard dummy text ever since the 1500s, when an unknown printer took a galley of type and scrambled it to make a type specimen book. It has survived not only five centuries, but also the leap into electronic typesetting, remaining essentially unchanged. It was popularised in the 1960s with the release of Letraset sheets containing Lorem Ipsum passages, and more recently with desktop publishing software like Aldus PageMaker including versions of Lorem Ipsum.\"\n",
    "# old_value = \"Lorem\"\n",
    "# new_value = \"Hello\"\n",
    "txt = input(\"Enter Your Text: \")\n",
    "old_value = input(\"Enter Your Old Value: \")\n",
    "new_value = input(\"Enter Your New Value: \")\n",
    "my_new_txt = txt.replace(old_value,new_value)\n",
    "print(my_new_txt)"
   ]
  },
  {
   "cell_type": "code",
   "execution_count": null,
   "metadata": {},
   "outputs": [],
   "source": [
    "# Write a Python program to get a string made of 4 copies of the last two characters of a specified string (length must be at least 2).\n",
    "word = input(\"Enter Your Word: \").strip()\n",
    "sub_string = word[-2:]\n",
    "print(sub_string*4)"
   ]
  },
  {
   "cell_type": "code",
   "execution_count": null,
   "metadata": {},
   "outputs": [],
   "source": [
    "# Write a Python program to swapcase first n characters in a string.\n",
    "msg = input(\"Enter Your Message: \").strip()\n",
    "char_num = int(input('Enter Your Char. Count: '))\n",
    "print(msg[0:char_num+1].swapcase()+msg[char_num+1:])"
   ]
  },
  {
   "cell_type": "code",
   "execution_count": null,
   "metadata": {},
   "outputs": [],
   "source": [
    "# اكتب برنامج يقوم بطلب كلمة من المستخدم ، ورقم الحرف المراد حذفه ، ثم قم بطباعة الناتج\n",
    "\n",
    "# 1. input: str()\n",
    "# 2. input: int()\n",
    "# 3. print(result)\n",
    "msg = input(\"Enter Your Word: \")\n",
    "# char_num = int(input(\"Enter Your Char. index: \"))\n",
    "# result = msg[0:char_num] + msg[char_num+1:]\n",
    "# print(f\"Delete '{msg[char_num]}' character.\")\n",
    "# print(f\"Result: {result}\")"
   ]
  },
  {
   "cell_type": "code",
   "execution_count": null,
   "metadata": {},
   "outputs": [],
   "source": [
    "txt = \"Hello, And Welcome To My World!\"\n",
    "\n",
    "x = txt.casefold()\n",
    "\n",
    "print(x)\n"
   ]
  },
  {
   "cell_type": "code",
   "execution_count": null,
   "metadata": {},
   "outputs": [],
   "source": [
    "name = '   ABDallah ibrahim 3g 4k   '\n",
    "# print(name.split('-'))\n",
    "# print(name.upper())\n",
    "# print(name.lower())\n",
    "# print(name.title())\n",
    "# print(name.capitalize())\n",
    "# print(name.strip().title())\n",
    "# print(name)\n",
    "\n",
    "email = input('Enter Your Email: ').strip().lower()\n",
    "print(email)"
   ]
  }
 ],
 "metadata": {
  "kernelspec": {
   "display_name": "Python 3",
   "language": "python",
   "name": "python3"
  },
  "language_info": {
   "codemirror_mode": {
    "name": "ipython",
    "version": 3
   },
   "file_extension": ".py",
   "mimetype": "text/x-python",
   "name": "python",
   "nbconvert_exporter": "python",
   "pygments_lexer": "ipython3",
   "version": "3.10.9"
  },
  "orig_nbformat": 4,
  "vscode": {
   "interpreter": {
    "hash": "1de7a48af1223212fbab08e900bdff8f37c1428b665fd465c89f9c7893b1c688"
   }
  }
 },
 "nbformat": 4,
 "nbformat_minor": 2
}
