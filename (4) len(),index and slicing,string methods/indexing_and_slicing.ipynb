{
 "cells": [
  {
   "cell_type": "code",
   "execution_count": 22,
   "metadata": {},
   "outputs": [
    {
     "name": "stdout",
     "output_type": "stream",
     "text": [
      "VisionPlus\n",
      "VisionPlus\n"
     ]
    }
   ],
   "source": [
    "# Indexing and Slicing\n",
    "#       0123456789\n",
    "test = 'VisionPlus'\n",
    "# Length -> len()\n",
    "# print(len(test))\n",
    "lastIndex = len(test)-1\n",
    "#? Indexing\n",
    "# print(test[0])\n",
    "# print(test[1])\n",
    "# print(test[2])\n",
    "# print(test[-1])\n",
    "# print(test[lastIndex])\n",
    "\n",
    "#? Slicing --> [start:end:steps]\n",
    "#! Note That The End is Not Included\n",
    "\n",
    "# print(test[0:6])\n",
    "# print(test[:6])\n",
    "# print(test[6:20])\n",
    "# print(test[6:])\n",
    "\n",
    "print(test)\n",
    "print(test[:])\n",
    "\n"
   ]
  },
  {
   "cell_type": "code",
   "execution_count": null,
   "metadata": {},
   "outputs": [],
   "source": [
    "# String Slicing --> myVar[start:end:steps]\n",
    "# The End is Not Included!\n",
    "\n",
    "test = 'Welcome'\n",
    "# print(test)\n",
    "# print(test[:])\n",
    "# print(test[0:4])\n",
    "# print(test[3:1000])\n",
    "# print(test[3:])\n",
    "# print(test[:3])\n",
    "\n",
    "\n",
    "print(test[::1])\n",
    "print(test[::3])\n",
    "# print(test[0:4:2])\n",
    "# print(test[::-2])\n"
   ]
  },
  {
   "cell_type": "code",
   "execution_count": 41,
   "metadata": {},
   "outputs": [
    {
     "name": "stdout",
     "output_type": "stream",
     "text": [
      "I love python\n",
      "nohtyp evol I\n",
      "nhy vlI\n"
     ]
    }
   ],
   "source": [
    "text = \"I love python\"\n",
    "lastIndex = len(text)-1\n",
    "# print(f'The String Length: {len(text)} Chars')\n",
    "# print(f'The First Index: {text[0]}')\n",
    "# # print(f'The Last Index: {text[-1]}')\n",
    "# print(f'The Last Index: {text[lastIndex]}')\n",
    "# print(text[2:6])\n",
    "# print(text[7:])\n",
    "\n",
    "print(text[::1])\n",
    "print(text[::-1])\n",
    "print(text[::-2])\n",
    "# print(text[::2])\n",
    "# print(text[::3])\n",
    "# print(text[::4])\n"
   ]
  }
 ],
 "metadata": {
  "kernelspec": {
   "display_name": "Python 3",
   "language": "python",
   "name": "python3"
  },
  "language_info": {
   "codemirror_mode": {
    "name": "ipython",
    "version": 3
   },
   "file_extension": ".py",
   "mimetype": "text/x-python",
   "name": "python",
   "nbconvert_exporter": "python",
   "pygments_lexer": "ipython3",
   "version": "3.10.9"
  },
  "orig_nbformat": 4,
  "vscode": {
   "interpreter": {
    "hash": "1de7a48af1223212fbab08e900bdff8f37c1428b665fd465c89f9c7893b1c688"
   }
  }
 },
 "nbformat": 4,
 "nbformat_minor": 2
}
