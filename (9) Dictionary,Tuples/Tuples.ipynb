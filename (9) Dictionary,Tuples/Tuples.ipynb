{
 "cells": [
  {
   "cell_type": "code",
   "execution_count": null,
   "metadata": {},
   "outputs": [],
   "source": [
    "# --------------------------------------\n",
    "# ************** Tuples **************** \n",
    "# --------------------------------------\n",
    "#? [1] Tuple Items Are Enclosed in Parentheses (item1, item2, item3,...)\n",
    "#? [2] You Can Remove The Parentheses If You Want\n",
    "#? [3] Tuple is Ordered\n",
    "#? [4] Tuple is unchangeable (Immutable)\n",
    "#? [5] Tuple Allow Duplicates\n",
    "#? [6] Tuple Can Have Different Data Types\n",
    "#? [7] Operators Used in Strings and Lists Available In Tuples\n",
    "#? [8] Tuples are used to store multiple items in a single variable\n",
    "#* -----------------------------\n"
   ]
  },
  {
   "cell_type": "code",
   "execution_count": null,
   "metadata": {},
   "outputs": [],
   "source": [
    "alpas = ('A',1,False,34.4,[1223,23245346,4546],('Alexas','adsa'))\n",
    "print(type(alpas))\n",
    "# print(alpas)\n"
   ]
  },
  {
   "cell_type": "code",
   "execution_count": null,
   "metadata": {},
   "outputs": [],
   "source": [
    "alpas = ('A',)\n",
    "print(type(alpas))\n"
   ]
  },
  {
   "cell_type": "code",
   "execution_count": null,
   "metadata": {},
   "outputs": [],
   "source": [
    "#### Indexing & Slicing\n",
    "my_tuple = ('Adnan',1,2.5,True,['Alex',2.5,False],('p',5,3.5,[\"Ahmed\",3]))\n",
    "# print(my_tuple[0])\n",
    "# print(my_tuple[-1][-1][0])\n",
    "\n",
    "# Slicing form --> [start:end:step] || End Not Included!\n",
    "\n",
    "# print(my_tuple[0:4])\n",
    "print(my_tuple[::-1])"
   ]
  },
  {
   "cell_type": "code",
   "execution_count": null,
   "metadata": {},
   "outputs": [],
   "source": [
    "my_tuple = ('Adnan',1,2.5,True,['Alex',2.5,False],('p',5,3.5),True,2.5)\n",
    "# print(my_tuple[0])\n",
    "# my_tuple[0] = 'Ahmed'\n",
    "# print(my_tuple)\n",
    "\n",
    "\n",
    "### Deleting Tuple ###\n",
    "   # can't delete items\n",
    "   # TypeError: 'tuple' object doesn't support item deletion\n",
    "   # But We can delete an entire tuple using (del entire_tuple)\n",
    "# my_tuple = ('Adnan',1,2.5,True,['Alex',2.5,False],('p',5,3.5),'Adnan')\n",
    "# print(my_tuple)\n",
    "# del my_tuple\n",
    "# print(my_tuple)"
   ]
  },
  {
   "cell_type": "code",
   "execution_count": null,
   "metadata": {},
   "outputs": [],
   "source": [
    "\n",
    "#?# Tuple Concatenation #?#\n",
    "# tuple_1 = ('A', 'B', 'C')\n",
    "# print(tuple_1)\n",
    "# tuple_2 = (1, 2, 3)\n",
    "# print(tuple_2)\n",
    "# my_tuple = tuple_1 + tuple_2\n",
    "# print(my_tuple)\n",
    "\n",
    "\n",
    "#?#  Tuple Repeater [*] #?#\n",
    "# my_tuple = (1, 'A', False, 5.5)\n",
    "# print(my_tuple*5)\n",
    "\n",
    "\n",
    "#?# count() Method #?#\n",
    "# my_tuple= (0,1,'A',False,5.5,False)\n",
    "# print(my_tuple.count(False))\n",
    "\n",
    "\n",
    "#?# index() Method #?#\n",
    "# my_tuple= (1,False,'A',5.5,False)\n",
    "# print(my_tuple.index(False))\n",
    "\n",
    "\n",
    "#?# Tuple Destruct #?#\n",
    "a,b,_,c = \"A\", \"B\",\"Ahmed\",\"C\"\n",
    "print(a,b,c)\n",
    "# print(a)\n",
    "# print(b)\n",
    "# print(c)"
   ]
  },
  {
   "cell_type": "code",
   "execution_count": 5,
   "metadata": {},
   "outputs": [
    {
     "name": "stdout",
     "output_type": "stream",
     "text": [
      "[+] Before Editiing: ('Amir', 'Yousef', 'Ahmed', 'Joudy')\n",
      "[+] After Editiing: ('Amir', 'Abdallah', 'Ahmed', 'Joudy')\n"
     ]
    }
   ],
   "source": [
    "x = ('Amir','Yousef','Ahmed','Joudy')\n",
    "print(f\"[+] Before Editiing: {x}\")\n",
    "x = list(x) #! Casting\n",
    "x[1] = 'Abdallah'\n",
    "x = tuple(x)\n",
    "print(f\"[+] After Editiing: {x}\")"
   ]
  }
 ],
 "metadata": {
  "kernelspec": {
   "display_name": "Python 3.10.5 64-bit",
   "language": "python",
   "name": "python3"
  },
  "language_info": {
   "codemirror_mode": {
    "name": "ipython",
    "version": 3
   },
   "file_extension": ".py",
   "mimetype": "text/x-python",
   "name": "python",
   "nbconvert_exporter": "python",
   "pygments_lexer": "ipython3",
   "version": "3.10.9"
  },
  "orig_nbformat": 4,
  "vscode": {
   "interpreter": {
    "hash": "1de7a48af1223212fbab08e900bdff8f37c1428b665fd465c89f9c7893b1c688"
   }
  }
 },
 "nbformat": 4,
 "nbformat_minor": 2
}
