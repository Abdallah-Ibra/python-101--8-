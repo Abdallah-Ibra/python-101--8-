{
 "cells": [
  {
   "cell_type": "code",
   "execution_count": 8,
   "metadata": {},
   "outputs": [
    {
     "name": "stdout",
     "output_type": "stream",
     "text": [
      "I Love Python\n",
      "I Love Python\n",
      "I Love Python\n",
      "I Love Python\n",
      "I Love Python\n",
      "I Love Python\n",
      "I Love Python\n",
      "I Love Python\n",
      "I Love Python\n",
      "I Love Python\n",
      "\n"
     ]
    }
   ],
   "source": [
    "# print('I Love Python\\n'*10)"
   ]
  },
  {
   "cell_type": "code",
   "execution_count": null,
   "metadata": {},
   "outputs": [],
   "source": [
    "my_list = ['Adnan','Mohammed','Mostafa','Ahmed','Abd','Mohanned']\n",
    "students_length = len(my_list) # 6\n",
    "# print(students_length)\n",
    "counter = 0\n",
    "while (counter < students_length):\n",
    "   print(my_list[counter])   \n",
    "   counter +=1"
   ]
  }
 ],
 "metadata": {
  "kernelspec": {
   "display_name": "Python 3",
   "language": "python",
   "name": "python3"
  },
  "language_info": {
   "codemirror_mode": {
    "name": "ipython",
    "version": 3
   },
   "file_extension": ".py",
   "mimetype": "text/x-python",
   "name": "python",
   "nbconvert_exporter": "python",
   "pygments_lexer": "ipython3",
   "version": "3.10.9"
  },
  "orig_nbformat": 4,
  "vscode": {
   "interpreter": {
    "hash": "1de7a48af1223212fbab08e900bdff8f37c1428b665fd465c89f9c7893b1c688"
   }
  }
 },
 "nbformat": 4,
 "nbformat_minor": 2
}
