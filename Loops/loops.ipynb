{
 "cells": [
  {
   "cell_type": "code",
   "execution_count": null,
   "metadata": {},
   "outputs": [],
   "source": [
    "\n",
    "#?----------------------------------------?#\n",
    "#!------------- while Loops -------------!# \n",
    "#?--------------------------------------?#\n",
    "\n",
    "\n",
    "#* While Loops Form:\n",
    "'''\n",
    "while (condition):\n",
    "    Expression\n",
    "\n",
    "! Note: Condition Must Be True To Excute Expression in Loop.\n",
    "\n",
    "'''\n",
    "\n",
    "# Increaament Operator --> x = x+1 ==> x +=1\n",
    "# Decreament Operator --> x = x-1 ==> x-=1\n"
   ]
  },
  {
   "cell_type": "code",
   "execution_count": 2,
   "metadata": {},
   "outputs": [
    {
     "name": "stdout",
     "output_type": "stream",
     "text": [
      "يا ويلكم\n",
      "\n",
      "        >>>>>> Welcome To Premium App <<<<<<<\n",
      "      \n",
      ">>>>>>>>>>> إلى اللقاء ي عزيز <<<<<<<<<<\n"
     ]
    }
   ],
   "source": [
    "\n",
    "#? Print 'Yes, I can' for 15 \n",
    "\n",
    "# counter = 1\n",
    "# while condition <= 15\n",
    "# print\n",
    "# Increament Operator\n",
    "\n",
    "\n",
    "# counter = 15\n",
    "# while (counter > 0):\n",
    "#   print(f'[{str(counter).zfill(2)}] Yes, I can!')\n",
    "  \n",
    "#   # Incremeant/Decreament Operator\n",
    "#   # counter = counter + 1\n",
    "#   counter -=1\n",
    "\n",
    "# print(\"App finished!\")\n",
    "\n",
    "\n",
    "\n",
    "tries = 3\n",
    "validUser,validPassword = 'admin','admin'\n",
    "while (tries > 0):\n",
    "  username = input('[?] Enter Your Username: ').strip()\n",
    "  password = input('[?] Enter Your Password: ')\n",
    "  if username == validUser and password == validPassword:\n",
    "    print(\"يا ويلكم\")\n",
    "    print('''\n",
    "        >>>>>> Welcome To Premium App <<<<<<<\n",
    "      ''')\n",
    "    # input(\"Hit Any Key To Close!\")\n",
    "    break\n",
    "  else:\n",
    "    print(\"العب بعييد يلااا\")\n",
    "  tries -=1\n",
    "  print(f'\\n---------- [Still {tries} Tries]  ----------')\n",
    "\n",
    "\n",
    "print('>>>>>>>>>>> إلى اللقاء ي عزيز <<<<<<<<<<')\n"
   ]
  },
  {
   "cell_type": "code",
   "execution_count": null,
   "metadata": {},
   "outputs": [],
   "source": [
    "# for i in range(1,11):\n",
    "#   print(i)\n",
    "\n",
    "\n",
    "# numbers = (0,1,2,3,4,5,6,7,8,9)\n",
    "# for i in numbers:\n",
    "#   print(i)\n",
    "\n",
    "\n",
    "\n",
    "# myFriends = ['Abdallah','Mostafa','Monia','Hussien']\n",
    "# for friend in myFriends:\n",
    "#   print(f'Thanks A Million {friend}')\n",
    "\n",
    "\n",
    "# name = 'Monia'\n",
    "# for char in name:\n",
    "#   # print(char)\n",
    "#   if char.strip() == 'o' or char.strip() == 'i':\n",
    "#     pass\n",
    "#     # print('Prevent Printing, May Contains \"o\" or \"i\" Char!')\n",
    "#   else:\n",
    "#     print(char)\n",
    "  \n",
    "\n",
    "# myFriends = ('Abdallah','Mostafa','Monia','Hussien')\n",
    "# for friend in myFriends:\n",
    "#   print(f'Thanks A Million {friend}')\n",
    "\n",
    "\n",
    "\n",
    "myFriends = {'Name':'Abdallah','Age':23,'ID':9074853098}\n",
    "for i in myFriends:\n",
    "  print(f'{i} --> {myFriends.get(i)}')\n"
   ]
  },
  {
   "cell_type": "code",
   "execution_count": 59,
   "metadata": {},
   "outputs": [
    {
     "name": "stdout",
     "output_type": "stream",
     "text": [
      "1. Banana\n",
      "2. Apple\n",
      "3. Student\n",
      "4. Teacher\n",
      "5. Manager\n",
      "6. Fruits\n"
     ]
    }
   ],
   "source": [
    "funny_list = ['Banana','Apple','Student','Teacher','Manager','Fruits']\n",
    "\n",
    "# counter = 1\n",
    "# for i in funny_list:\n",
    "#   print(f'[{counter}] {i}')\n",
    "#   counter += 1\n",
    "\n",
    "\n",
    "for y,x in enumerate(funny_list):\n",
    "  print(f'{y+1}. {x}')"
   ]
  }
 ],
 "metadata": {
  "kernelspec": {
   "display_name": "Python 3",
   "language": "python",
   "name": "python3"
  },
  "language_info": {
   "codemirror_mode": {
    "name": "ipython",
    "version": 3
   },
   "file_extension": ".py",
   "mimetype": "text/x-python",
   "name": "python",
   "nbconvert_exporter": "python",
   "pygments_lexer": "ipython3",
   "version": "3.10.9"
  },
  "orig_nbformat": 4,
  "vscode": {
   "interpreter": {
    "hash": "1de7a48af1223212fbab08e900bdff8f37c1428b665fd465c89f9c7893b1c688"
   }
  }
 },
 "nbformat": 4,
 "nbformat_minor": 2
}
