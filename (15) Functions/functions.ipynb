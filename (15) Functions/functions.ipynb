{
 "cells": [
  {
   "cell_type": "code",
   "execution_count": 17,
   "metadata": {},
   "outputs": [
    {
     "data": {
      "text/plain": [
       "'Hello World!'"
      ]
     },
     "execution_count": 17,
     "metadata": {},
     "output_type": "execute_result"
    }
   ],
   "source": [
    "# print('Hello World!')\n",
    "# print('Hello World!')\n",
    "# print('Hello World!')\n",
    "\n",
    "def sayHi():\n",
    "    # print('Hello World!')\n",
    "    return 'Hello World!'\n",
    "\n",
    "sayHi()\n",
    "# for _ in range(10):\n",
    "#     sayHi()\n",
    "\n"
   ]
  },
  {
   "cell_type": "code",
   "execution_count": null,
   "metadata": {},
   "outputs": [],
   "source": [
    "def sayHello(name,age):\n",
    "   print(f'Hello From {name}.')\n",
    "   print('{}\\'s Age {} Years Old'.format(name,age))\n",
    "\n",
    "sayHello('Ahmed',28)\n",
    "print('-----------------------------------')\n",
    "sayHello('Abdallah',24)\n",
    "print('-----------------------------------')\n",
    "name = input('Enter Your Name: ')\n",
    "age = int(input('Enter Your Age: '))\n",
    "sayHello(name,age)"
   ]
  },
  {
   "cell_type": "code",
   "execution_count": null,
   "metadata": {},
   "outputs": [],
   "source": [
    "\n",
    "def newFunction(name='Guest',skills=['SQL','JavaScript']):\n",
    "   print(f'Name --> {name}')\n",
    "   print('Skills: ')\n",
    "   for i in skills:\n",
    "      print(f'  - {i}')\n",
    "\n",
    "\n",
    "# Call Functions\n",
    "# skills = ['Python','PHP','Java','SQL','JavaScript']\n",
    "# newFunction('Alexas',skills)\n",
    "\n",
    "skills = ['Python','PHP','Java','SQL','JavaScript']\n",
    "newFunction(name='Saed',skills=skills)\n",
    "print('-'*30)\n",
    "skills1 = ['Play Piano','Football','Basketball']\n",
    "newFunction('Ahmed',skills1)\n",
    "print('-'*30)\n",
    "newFunction('Abdallah',['Play Piano','Football','Basketball'])\n"
   ]
  },
  {
   "cell_type": "code",
   "execution_count": 44,
   "metadata": {},
   "outputs": [
    {
     "name": "stdout",
     "output_type": "stream",
     "text": [
      "I am Alex, I am From USA\n",
      "[+] Your Texas in Dollars --> 100.0$\n",
      "------------------------------\n",
      "I am Hussien, I am From Palestine\n",
      "[+] Your Texas in Dollars --> 50.0$\n"
     ]
    }
   ],
   "source": [
    "def whoAmI(name,country='Palestine',salary=1000):\n",
    "   print(f'I am {name}, I am From {country}')\n",
    "   texas = 0.05\n",
    "   result = salary * texas\n",
    "   print(f'[+] Your Texas in Dollars --> {result}$')\n",
    "\n",
    "whoAmI('Alex','USA',2000)\n",
    "print('-'*30)\n",
    "whoAmI('Hussien')"
   ]
  },
  {
   "cell_type": "code",
   "execution_count": null,
   "metadata": {},
   "outputs": [],
   "source": [
    "# num1 = 5\n",
    "# num2 = 10\n",
    "# result = num1+ num2\n",
    "\n",
    "# print(f'{num1}+{num2} = {result}')\n",
    "\n",
    "def add2Nums(num1,num2):\n",
    "   result = num1+ num2\n",
    "   return f'{num1}+{num2} = {result}'\n",
    "\n",
    "print(add2Nums(5,10))\n",
    "print(add2Nums(22,34))\n",
    "print(add2Nums(10,2))\n",
    "print(add2Nums(20,4))\n"
   ]
  },
  {
   "cell_type": "code",
   "execution_count": 55,
   "metadata": {},
   "outputs": [
    {
     "name": "stdout",
     "output_type": "stream",
     "text": [
      "2\n"
     ]
    }
   ],
   "source": [
    "# lambda param1,param2 : excute your statements\n",
    "\n",
    "# def sayHi():\n",
    "#   return 'Hello World!'\n",
    "\n",
    "# sayHi = lambda : 'Hello World!'\n",
    "# print(sayHi())\n",
    "\n",
    "\n",
    "# def sub2nums(num1,num2):\n",
    "#   return int(num1) - int(num2)\n",
    "\n",
    "# print(sub2nums(10,4))\n",
    "\n",
    "# sub2Nums = lambda num1,num2: int(num1) - int(num2)\n",
    "\n",
    "# print(sub2Nums(11,9))\n",
    "\n",
    "\n"
   ]
  },
  {
   "cell_type": "code",
   "execution_count": 63,
   "metadata": {},
   "outputs": [
    {
     "name": "stdout",
     "output_type": "stream",
     "text": [
      "[+] NEW List: [3, 5, 9, 7, 9, 1, 7, 3, 9]\n"
     ]
    }
   ],
   "source": [
    "## Use of Lambda Function in python ##\n",
    "\n",
    "# Example use with filter() #\n",
    "\n",
    "'''\n",
    "The filter() function in Python takes in a function and a list as arguments.\n",
    "\n",
    "The function is called with all the items in the list\n",
    "and a new list is returned which contains items for which the function evaluates to True.\n",
    "\n",
    "'''\n",
    "\n",
    "# # Program to filter out only the even items from a list\n",
    "#? Even --> %2 == 0\n",
    "# my_list = [1, 5, 4, 6, 8, 11, 3, 12]\n",
    "# new_list = []\n",
    "# for num in my_list:\n",
    "#   if num % 2 == 0:\n",
    "#     # print(f'[+] Even Number --> {num}')\n",
    "#     new_list.append(num)\n",
    "\n",
    "# print(f'Old List: {my_list}')\n",
    "# print(f'New List: {new_list}')\n",
    "\n",
    "\n",
    "# my_list = [1, 5, 4, 6, 8, 11, 3, 12,1, 5, 4, 6, 8, 11, 3, 12,1, 5, 4, 6, 8, 11, 3, 12,1, 5, 4, 6, 8, 11, 3, 12]\n",
    "\n",
    "# filtering = lambda z : z%2==0\n",
    "\n",
    "# f = list(filter(filtering,my_list))\n",
    "# print(f)\n",
    "\n",
    "\n",
    "# zzz = lambda x: x%2!=0\n",
    "# my_list = [3,5,9,4,7,8,9,1,7,8,2,3,6,9,66]\n",
    "# new_list = []\n",
    "# for i in my_list:\n",
    "#    if zzz(i):\n",
    "#       new_list.append(i)\n",
    "\n",
    "# print(f'[+] Old List: {my_list}')\n",
    "# print(f'[+] NEW List: {new_list}')\n",
    "\n",
    "my_list = [3,5,9,4,7,8,9,1,7,8,2,3,6,9,66]\n",
    "zzz = lambda x: x%2!=0\n",
    "new_list = list(filter(zzz,my_list))\n",
    "print(f'[+] NEW List: {new_list}')\n",
    "\n"
   ]
  },
  {
   "cell_type": "code",
   "execution_count": 102,
   "metadata": {},
   "outputs": [
    {
     "name": "stdout",
     "output_type": "stream",
     "text": [
      "['0598144784', '0597972806', '0595786050', '0598767409', '0597461295', '0593900421', '0595715464', '0598028149', '0598652413', '0596223363']\n"
     ]
    }
   ],
   "source": [
    "# Example use with map() #\n",
    "\n",
    "'''\n",
    "The map() function in Python takes in a function and a list.\n",
    "\n",
    "The function is called with all the items in the list\n",
    "and a new list is returned which contains items returned by that function for each item.\n",
    "\n",
    "'''\n",
    "\n",
    "\n",
    "# Program to double each item in a list using map()\n",
    "\n",
    "my_list = [1, 5, 4, 6, 8, 11, 3, 12]\n",
    "# new_list = []\n",
    "# for i in my_list:\n",
    "#    i = i*2\n",
    "#    new_list.append(i)\n",
    "# print(f'[+] Old List: {my_list}')\n",
    "# print(f'[+] NEW List: {new_list}')\n",
    "\n",
    "# new_list = list(map(lambda x: x * 2 , my_list))\n",
    "# print(new_list)\n",
    "\n",
    "\n",
    "# import random\n",
    "\n",
    "# prefPhone = '059'\n",
    "# for i in range(10):\n",
    "#    num = str(random.randint(3456781,9876543))\n",
    "#    print(prefPhone+num)\n",
    "\n",
    "\n",
    "nums = [\n",
    "   '8144784',\n",
    "   '7972806',\n",
    "   '5786050',\n",
    "   '8767409',\n",
    "   '7461295',\n",
    "   '3900421',\n",
    "   '5715464',\n",
    "   '8028149',\n",
    "   '8652413',\n",
    "   '6223363',\n",
    "]\n",
    "prefPhone = '059'\n",
    "# newList = []\n",
    "# for i in nums:\n",
    "#    print(prefPhone+i)\n",
    "#    newList.append(prefPhone+i)\n",
    "# print(newList)\n",
    "\n",
    "result = map(lambda x:prefPhone+x,nums)\n",
    "print(list(result))"
   ]
  }
 ],
 "metadata": {
  "kernelspec": {
   "display_name": "Python 3",
   "language": "python",
   "name": "python3"
  },
  "language_info": {
   "codemirror_mode": {
    "name": "ipython",
    "version": 3
   },
   "file_extension": ".py",
   "mimetype": "text/x-python",
   "name": "python",
   "nbconvert_exporter": "python",
   "pygments_lexer": "ipython3",
   "version": "3.10.9"
  },
  "orig_nbformat": 4,
  "vscode": {
   "interpreter": {
    "hash": "1de7a48af1223212fbab08e900bdff8f37c1428b665fd465c89f9c7893b1c688"
   }
  }
 },
 "nbformat": 4,
 "nbformat_minor": 2
}
