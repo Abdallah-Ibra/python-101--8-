{
 "cells": [
  {
   "cell_type": "code",
   "execution_count": null,
   "metadata": {},
   "outputs": [],
   "source": [
    "# -----------------------\n",
    "# -- Boolean Operators --\n",
    "# -----------------------\n",
    "# and &&\n",
    "# or ||\n",
    "# not !\n",
    "# -----------------------\n",
    "\n",
    "# --------------------------\n",
    "# -- Arithmetic Operators --\n",
    "# --------------------------\n",
    "# [+] Addition\n",
    "# [-] Subtraction\n",
    "# [*] Multiplication \n",
    "# [/] Division \n",
    "# [%] Modulus\n",
    "# [**] Exponent\n",
    "# [//] Floor Division\n",
    "# --------------------------\n",
    "\n",
    "# --------------------------\n",
    "# -- Assignment Operators --\n",
    "# --------------------------\n",
    "# =  >> name = 'Ahmed' [Set value to variable ]\n",
    "# += \n",
    "# >> x = 5\n",
    "# x = x+1 --> x+=1\n",
    "# -=\n",
    "# z = 10\n",
    "# z -=1 >> z = z -1\n",
    "# z = 9 \n",
    "# *=\n",
    "# /=\n",
    "# **=\n",
    "# %=\n",
    "# //=\n",
    "# --------------------------\n",
    "\n",
    "# --------------------------\n",
    "# -- Comparison Operators --\n",
    "# --------------------------\n",
    "# [ == ] Equal \n",
    "# pen = 'green'\n",
    "# print(pen=='red')\n",
    "# [ != ] Not Equal ==> \n",
    "# print(pen!='green')\n",
    "# [ > ] Greater Than\n",
    "# [ < ] Less Than\n",
    "# [ >= ] Greater Than Or Equal\n",
    "# [ <= ] Less Than Or Equal\n",
    "# --------------------------"
   ]
  },
  {
   "cell_type": "code",
   "execution_count": 12,
   "metadata": {},
   "outputs": [
    {
     "name": "stdout",
     "output_type": "stream",
     "text": [
      "25\n"
     ]
    }
   ],
   "source": [
    "\n",
    "#? Assignment Opertors #\n",
    "\n",
    "# x = 5 \n",
    "# x += 2  # x = x+2\n",
    "# print(x)\n",
    "\n",
    "# x = 5 \n",
    "# x -= 2  # x = x-2\n",
    "# print(x)\n",
    "\n",
    "\n",
    "# x = 5\n",
    "# x *= 2  # x = x*2\n",
    "# print(x)\n",
    "\n",
    "# x = 5 \n",
    "# x /= 2  # x = x/2\n",
    "# print(x)\n",
    "\n",
    "\n",
    "# x = 5 \n",
    "# x //= 2  # x = x//2\n",
    "# print(x)\n",
    "\n",
    "# x = 5 \n",
    "# x %= 2  # x = x%2\n",
    "# print(x)\n",
    "\n",
    "# x = 5 \n",
    "# x **= 2  # x = x**2\n",
    "# print(x)\n"
   ]
  },
  {
   "cell_type": "code",
   "execution_count": null,
   "metadata": {},
   "outputs": [],
   "source": [
    "\n",
    "#? Comparsion Operatiors ?#\n",
    "\n",
    "print(5==5)\n",
    "print(5!=5)\n",
    "print(5>5)\n",
    "print(5<5)\n",
    "print(5>=5)\n",
    "print(5<=5)"
   ]
  },
  {
   "cell_type": "code",
   "execution_count": 16,
   "metadata": {},
   "outputs": [
    {
     "name": "stdout",
     "output_type": "stream",
     "text": [
      "False\n",
      "True\n"
     ]
    }
   ],
   "source": [
    "\n",
    "#  -----------------------\n",
    "#? -- Boolean Operators --\n",
    "#  -----------------------\n",
    "# and &&\n",
    "# or ||\n",
    "# not !\n",
    "# -----------------------\n",
    "\n",
    "    # True and  True --> True\n",
    "# print(5==5 and 10==10)\n",
    "#    False and True --> False     \n",
    "# print(5!=5 and 10==10)\n",
    "\n",
    "#     False or True ==> True\n",
    "# print(5>5 or 10==10)\n",
    "#    False or True ==> True\n",
    "# print(5<5 or 10==10)\n",
    "\n",
    "\n",
    "print(not 5>=5)\n",
    "print(not 5<5)\n"
   ]
  }
 ],
 "metadata": {
  "kernelspec": {
   "display_name": "Python 3",
   "language": "python",
   "name": "python3"
  },
  "language_info": {
   "codemirror_mode": {
    "name": "ipython",
    "version": 3
   },
   "file_extension": ".py",
   "mimetype": "text/x-python",
   "name": "python",
   "nbconvert_exporter": "python",
   "pygments_lexer": "ipython3",
   "version": "3.10.9"
  },
  "orig_nbformat": 4,
  "vscode": {
   "interpreter": {
    "hash": "1de7a48af1223212fbab08e900bdff8f37c1428b665fd465c89f9c7893b1c688"
   }
  }
 },
 "nbformat": 4,
 "nbformat_minor": 2
}
